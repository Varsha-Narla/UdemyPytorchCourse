{
 "cells": [
  {
   "cell_type": "code",
   "execution_count": 1,
   "id": "166fd7c3",
   "metadata": {},
   "outputs": [],
   "source": [
    "import torch\n",
    "import torch.nn as nn\n",
    "import torch.nn.functional as F"
   ]
  },
  {
   "cell_type": "code",
   "execution_count": 5,
   "id": "01ee9f2a",
   "metadata": {},
   "outputs": [],
   "source": [
    "class Model(nn.Module):\n",
    "    def __init__(self, in_features=4, h1=8, h2=9, out_features=3):\n",
    "        #how many layers are there and for each layer, we create an attribute\n",
    "        #input layer (4 features)\n",
    "        super().__init__()\n",
    "        #hidden layer 1 (h1, arbitrary)\n",
    "        self.fc1=nn.Linear(in_features, h1)\n",
    "        #hidden layer 2 (h2, arbitraty)\n",
    "        self.fc2=nn.Linear(h1,h2)\n",
    "        #output layer (3 neurons)\n",
    "        self.out=nn.Linear(h2, out_features)\n",
    "    def forward(self, x):\n",
    "        x=F.relu(self.fc1(x))\n",
    "        x=F.relu(self.fc2(x))\n",
    "        x=self.out(x)\n",
    "        return x"
   ]
  },
  {
   "cell_type": "code",
   "execution_count": 6,
   "id": "cc92894d",
   "metadata": {},
   "outputs": [],
   "source": [
    "torch.manual_seed(32)\n",
    "model=Model()"
   ]
  },
  {
   "cell_type": "code",
   "execution_count": 16,
   "id": "c08d261f",
   "metadata": {},
   "outputs": [],
   "source": [
    "import pandas as pd"
   ]
  },
  {
   "cell_type": "code",
   "execution_count": 17,
   "id": "cad0523f",
   "metadata": {},
   "outputs": [
    {
     "data": {
      "text/html": [
       "<div>\n",
       "<style scoped>\n",
       "    .dataframe tbody tr th:only-of-type {\n",
       "        vertical-align: middle;\n",
       "    }\n",
       "\n",
       "    .dataframe tbody tr th {\n",
       "        vertical-align: top;\n",
       "    }\n",
       "\n",
       "    .dataframe thead th {\n",
       "        text-align: right;\n",
       "    }\n",
       "</style>\n",
       "<table border=\"1\" class=\"dataframe\">\n",
       "  <thead>\n",
       "    <tr style=\"text-align: right;\">\n",
       "      <th></th>\n",
       "      <th>sepal_length</th>\n",
       "      <th>sepal_width</th>\n",
       "      <th>petal_length</th>\n",
       "      <th>petal_width</th>\n",
       "      <th>species</th>\n",
       "    </tr>\n",
       "  </thead>\n",
       "  <tbody>\n",
       "    <tr>\n",
       "      <th>0</th>\n",
       "      <td>5.1</td>\n",
       "      <td>3.5</td>\n",
       "      <td>1.4</td>\n",
       "      <td>0.2</td>\n",
       "      <td>setosa</td>\n",
       "    </tr>\n",
       "    <tr>\n",
       "      <th>1</th>\n",
       "      <td>4.9</td>\n",
       "      <td>3.0</td>\n",
       "      <td>1.4</td>\n",
       "      <td>0.2</td>\n",
       "      <td>setosa</td>\n",
       "    </tr>\n",
       "    <tr>\n",
       "      <th>2</th>\n",
       "      <td>4.7</td>\n",
       "      <td>3.2</td>\n",
       "      <td>1.3</td>\n",
       "      <td>0.2</td>\n",
       "      <td>setosa</td>\n",
       "    </tr>\n",
       "    <tr>\n",
       "      <th>3</th>\n",
       "      <td>4.6</td>\n",
       "      <td>3.1</td>\n",
       "      <td>1.5</td>\n",
       "      <td>0.2</td>\n",
       "      <td>setosa</td>\n",
       "    </tr>\n",
       "    <tr>\n",
       "      <th>4</th>\n",
       "      <td>5.0</td>\n",
       "      <td>3.6</td>\n",
       "      <td>1.4</td>\n",
       "      <td>0.2</td>\n",
       "      <td>setosa</td>\n",
       "    </tr>\n",
       "  </tbody>\n",
       "</table>\n",
       "</div>"
      ],
      "text/plain": [
       "   sepal_length  sepal_width  petal_length  petal_width species\n",
       "0           5.1          3.5           1.4          0.2  setosa\n",
       "1           4.9          3.0           1.4          0.2  setosa\n",
       "2           4.7          3.2           1.3          0.2  setosa\n",
       "3           4.6          3.1           1.5          0.2  setosa\n",
       "4           5.0          3.6           1.4          0.2  setosa"
      ]
     },
     "execution_count": 17,
     "metadata": {},
     "output_type": "execute_result"
    }
   ],
   "source": [
    "df=pd.read_csv('C:\\\\Users\\\\DELL\\\\anaconda3\\\\pkgs\\\\bokeh-3.2.1-py311h746a85d_0\\\\Lib\\\\site-packages\\\\bokeh\\\\sampledata\\\\_data\\\\iris.csv')\n",
    "df.head()"
   ]
  },
  {
   "cell_type": "code",
   "execution_count": 20,
   "id": "2a30b2d8",
   "metadata": {},
   "outputs": [
    {
     "name": "stdout",
     "output_type": "stream",
     "text": [
      "     sepal_length  sepal_width  petal_length  petal_width    species\n",
      "0             5.1          3.5           1.4          0.2     setosa\n",
      "1             4.9          3.0           1.4          0.2     setosa\n",
      "2             4.7          3.2           1.3          0.2     setosa\n",
      "3             4.6          3.1           1.5          0.2     setosa\n",
      "4             5.0          3.6           1.4          0.2     setosa\n",
      "..            ...          ...           ...          ...        ...\n",
      "145           6.7          3.0           5.2          2.3  virginica\n",
      "146           6.3          2.5           5.0          1.9  virginica\n",
      "147           6.5          3.0           5.2          2.0  virginica\n",
      "148           6.2          3.4           5.4          2.3  virginica\n",
      "149           5.9          3.0           5.1          1.8  virginica\n",
      "\n",
      "[150 rows x 5 columns]\n"
     ]
    }
   ],
   "source": [
    "print(df)"
   ]
  },
  {
   "cell_type": "code",
   "execution_count": 22,
   "id": "a1a69d21",
   "metadata": {},
   "outputs": [],
   "source": [
    "df['target']=df['species'].astype('category').cat.codes"
   ]
  },
  {
   "cell_type": "code",
   "execution_count": 23,
   "id": "190f3e78",
   "metadata": {},
   "outputs": [
    {
     "data": {
      "text/html": [
       "<div>\n",
       "<style scoped>\n",
       "    .dataframe tbody tr th:only-of-type {\n",
       "        vertical-align: middle;\n",
       "    }\n",
       "\n",
       "    .dataframe tbody tr th {\n",
       "        vertical-align: top;\n",
       "    }\n",
       "\n",
       "    .dataframe thead th {\n",
       "        text-align: right;\n",
       "    }\n",
       "</style>\n",
       "<table border=\"1\" class=\"dataframe\">\n",
       "  <thead>\n",
       "    <tr style=\"text-align: right;\">\n",
       "      <th></th>\n",
       "      <th>sepal_length</th>\n",
       "      <th>sepal_width</th>\n",
       "      <th>petal_length</th>\n",
       "      <th>petal_width</th>\n",
       "      <th>species</th>\n",
       "      <th>target</th>\n",
       "    </tr>\n",
       "  </thead>\n",
       "  <tbody>\n",
       "    <tr>\n",
       "      <th>0</th>\n",
       "      <td>5.1</td>\n",
       "      <td>3.5</td>\n",
       "      <td>1.4</td>\n",
       "      <td>0.2</td>\n",
       "      <td>setosa</td>\n",
       "      <td>0</td>\n",
       "    </tr>\n",
       "    <tr>\n",
       "      <th>1</th>\n",
       "      <td>4.9</td>\n",
       "      <td>3.0</td>\n",
       "      <td>1.4</td>\n",
       "      <td>0.2</td>\n",
       "      <td>setosa</td>\n",
       "      <td>0</td>\n",
       "    </tr>\n",
       "    <tr>\n",
       "      <th>2</th>\n",
       "      <td>4.7</td>\n",
       "      <td>3.2</td>\n",
       "      <td>1.3</td>\n",
       "      <td>0.2</td>\n",
       "      <td>setosa</td>\n",
       "      <td>0</td>\n",
       "    </tr>\n",
       "    <tr>\n",
       "      <th>3</th>\n",
       "      <td>4.6</td>\n",
       "      <td>3.1</td>\n",
       "      <td>1.5</td>\n",
       "      <td>0.2</td>\n",
       "      <td>setosa</td>\n",
       "      <td>0</td>\n",
       "    </tr>\n",
       "    <tr>\n",
       "      <th>4</th>\n",
       "      <td>5.0</td>\n",
       "      <td>3.6</td>\n",
       "      <td>1.4</td>\n",
       "      <td>0.2</td>\n",
       "      <td>setosa</td>\n",
       "      <td>0</td>\n",
       "    </tr>\n",
       "  </tbody>\n",
       "</table>\n",
       "</div>"
      ],
      "text/plain": [
       "   sepal_length  sepal_width  petal_length  petal_width species  target\n",
       "0           5.1          3.5           1.4          0.2  setosa       0\n",
       "1           4.9          3.0           1.4          0.2  setosa       0\n",
       "2           4.7          3.2           1.3          0.2  setosa       0\n",
       "3           4.6          3.1           1.5          0.2  setosa       0\n",
       "4           5.0          3.6           1.4          0.2  setosa       0"
      ]
     },
     "execution_count": 23,
     "metadata": {},
     "output_type": "execute_result"
    }
   ],
   "source": [
    "df.head()"
   ]
  },
  {
   "cell_type": "code",
   "execution_count": 36,
   "id": "fc7379c5",
   "metadata": {},
   "outputs": [
    {
     "data": {
      "text/plain": [
       "(150, 5)"
      ]
     },
     "execution_count": 36,
     "metadata": {},
     "output_type": "execute_result"
    }
   ],
   "source": [
    "df.shape"
   ]
  },
  {
   "cell_type": "code",
   "execution_count": 37,
   "id": "713cb419",
   "metadata": {},
   "outputs": [
    {
     "data": {
      "text/html": [
       "<div>\n",
       "<style scoped>\n",
       "    .dataframe tbody tr th:only-of-type {\n",
       "        vertical-align: middle;\n",
       "    }\n",
       "\n",
       "    .dataframe tbody tr th {\n",
       "        vertical-align: top;\n",
       "    }\n",
       "\n",
       "    .dataframe thead th {\n",
       "        text-align: right;\n",
       "    }\n",
       "</style>\n",
       "<table border=\"1\" class=\"dataframe\">\n",
       "  <thead>\n",
       "    <tr style=\"text-align: right;\">\n",
       "      <th></th>\n",
       "      <th>sepal_length</th>\n",
       "      <th>sepal_width</th>\n",
       "      <th>petal_length</th>\n",
       "      <th>petal_width</th>\n",
       "      <th>target</th>\n",
       "    </tr>\n",
       "  </thead>\n",
       "  <tbody>\n",
       "    <tr>\n",
       "      <th>145</th>\n",
       "      <td>6.7</td>\n",
       "      <td>3.0</td>\n",
       "      <td>5.2</td>\n",
       "      <td>2.3</td>\n",
       "      <td>2.0</td>\n",
       "    </tr>\n",
       "    <tr>\n",
       "      <th>146</th>\n",
       "      <td>6.3</td>\n",
       "      <td>2.5</td>\n",
       "      <td>5.0</td>\n",
       "      <td>1.9</td>\n",
       "      <td>2.0</td>\n",
       "    </tr>\n",
       "    <tr>\n",
       "      <th>147</th>\n",
       "      <td>6.5</td>\n",
       "      <td>3.0</td>\n",
       "      <td>5.2</td>\n",
       "      <td>2.0</td>\n",
       "      <td>2.0</td>\n",
       "    </tr>\n",
       "    <tr>\n",
       "      <th>148</th>\n",
       "      <td>6.2</td>\n",
       "      <td>3.4</td>\n",
       "      <td>5.4</td>\n",
       "      <td>2.3</td>\n",
       "      <td>2.0</td>\n",
       "    </tr>\n",
       "    <tr>\n",
       "      <th>149</th>\n",
       "      <td>5.9</td>\n",
       "      <td>3.0</td>\n",
       "      <td>5.1</td>\n",
       "      <td>1.8</td>\n",
       "      <td>2.0</td>\n",
       "    </tr>\n",
       "  </tbody>\n",
       "</table>\n",
       "</div>"
      ],
      "text/plain": [
       "     sepal_length  sepal_width  petal_length  petal_width  target\n",
       "145           6.7          3.0           5.2          2.3     2.0\n",
       "146           6.3          2.5           5.0          1.9     2.0\n",
       "147           6.5          3.0           5.2          2.0     2.0\n",
       "148           6.2          3.4           5.4          2.3     2.0\n",
       "149           5.9          3.0           5.1          1.8     2.0"
      ]
     },
     "execution_count": 37,
     "metadata": {},
     "output_type": "execute_result"
    }
   ],
   "source": [
    "df.tail()"
   ]
  },
  {
   "cell_type": "code",
   "execution_count": 38,
   "id": "9b454f84",
   "metadata": {},
   "outputs": [],
   "source": [
    "X=df.drop('target', axis=1)\n",
    "y=df['target']"
   ]
  },
  {
   "cell_type": "code",
   "execution_count": 39,
   "id": "f3d42a03",
   "metadata": {},
   "outputs": [
    {
     "data": {
      "text/plain": [
       "pandas.core.series.Series"
      ]
     },
     "execution_count": 39,
     "metadata": {},
     "output_type": "execute_result"
    }
   ],
   "source": [
    "type(y)"
   ]
  },
  {
   "cell_type": "code",
   "execution_count": 40,
   "id": "414d9562",
   "metadata": {},
   "outputs": [],
   "source": [
    "X=X.values\n",
    "y=y.values"
   ]
  },
  {
   "cell_type": "code",
   "execution_count": 42,
   "id": "1bb67b51",
   "metadata": {},
   "outputs": [],
   "source": [
    "from sklearn.model_selection import train_test_split"
   ]
  },
  {
   "cell_type": "code",
   "execution_count": 43,
   "id": "396f2918",
   "metadata": {},
   "outputs": [],
   "source": [
    "X_train, X_test, y_train, y_test=train_test_split(X,y,test_size=0.2, random_state=33)"
   ]
  },
  {
   "cell_type": "code",
   "execution_count": 44,
   "id": "8b7452a1",
   "metadata": {},
   "outputs": [],
   "source": [
    "X_train=torch.FloatTensor(X_train)\n",
    "X_test=torch.FloatTensor(X_test)"
   ]
  },
  {
   "cell_type": "code",
   "execution_count": 45,
   "id": "22b940c6",
   "metadata": {},
   "outputs": [],
   "source": [
    "y_train=torch.LongTensor(y_train)\n",
    "y_test=torch.LongTensor(y_test)"
   ]
  },
  {
   "cell_type": "code",
   "execution_count": 46,
   "id": "0e423623",
   "metadata": {},
   "outputs": [],
   "source": [
    "\n",
    "criterion=nn.CrossEntropyLoss()\n",
    "\n",
    "optimizer=torch.optim.Adam(model.parameters(), lr=0.01) #lower the learning rate, the longer it takes to train the data"
   ]
  },
  {
   "cell_type": "code",
   "execution_count": 49,
   "id": "c8df32ee",
   "metadata": {},
   "outputs": [
    {
     "data": {
      "text/plain": [
       "<generator object Module.parameters at 0x000001EB373D2180>"
      ]
     },
     "execution_count": 49,
     "metadata": {},
     "output_type": "execute_result"
    }
   ],
   "source": [
    "model.parameters()"
   ]
  },
  {
   "cell_type": "code",
   "execution_count": 50,
   "id": "2a180727",
   "metadata": {},
   "outputs": [
    {
     "data": {
      "text/plain": [
       "<bound method Module.parameters of Model(\n",
       "  (fc1): Linear(in_features=4, out_features=8, bias=True)\n",
       "  (fc2): Linear(in_features=8, out_features=9, bias=True)\n",
       "  (out): Linear(in_features=9, out_features=3, bias=True)\n",
       ")>"
      ]
     },
     "execution_count": 50,
     "metadata": {},
     "output_type": "execute_result"
    }
   ],
   "source": [
    "model.parameters"
   ]
  },
  {
   "cell_type": "code",
   "execution_count": 51,
   "id": "f1af535f",
   "metadata": {},
   "outputs": [
    {
     "name": "stdout",
     "output_type": "stream",
     "text": [
      "epoch 0 - loss is 1.1507450342178345\n",
      "epoch 10 - loss is 0.9371448755264282\n",
      "epoch 20 - loss is 0.7796242237091064\n",
      "epoch 30 - loss is 0.6078532338142395\n",
      "epoch 40 - loss is 0.39894530177116394\n",
      "epoch 50 - loss is 0.2524919807910919\n",
      "epoch 60 - loss is 0.14927689731121063\n",
      "epoch 70 - loss is 0.10029555857181549\n",
      "epoch 80 - loss is 0.08100692182779312\n",
      "epoch 90 - loss is 0.07216036319732666\n"
     ]
    }
   ],
   "source": [
    "#how many epochs? \n",
    "#1 epoch == 1 run through the entire training data \n",
    "epochs=100\n",
    "losses=[]\n",
    "for i in range (epochs):\n",
    "    #forward through the network\n",
    "    y_pred=model.forward(X_train)\n",
    "    #now calc loss \n",
    "    loss=criterion(y_pred, y_train)\n",
    "    losses.append(loss)\n",
    "    if i%10==0:\n",
    "        print(f'epoch {i} - loss is {loss}')\n",
    "        \n",
    "    #back propogation \n",
    "    optimizer.zero_grad()\n",
    "    loss.backward()\n",
    "    optimizer.step()"
   ]
  },
  {
   "cell_type": "code",
   "execution_count": 52,
   "id": "911d6e8e",
   "metadata": {},
   "outputs": [],
   "source": [
    "#this is the testing part. we don't have to do back propogation here \n",
    "with torch.no_grad():\n",
    "    y_eval=model.forward(X_test)\n",
    "    loss=criterion(y_eval, y_test)"
   ]
  },
  {
   "cell_type": "code",
   "execution_count": 53,
   "id": "25662cd9",
   "metadata": {},
   "outputs": [
    {
     "data": {
      "text/plain": [
       "tensor(0.0582)"
      ]
     },
     "execution_count": 53,
     "metadata": {},
     "output_type": "execute_result"
    }
   ],
   "source": [
    "loss"
   ]
  },
  {
   "cell_type": "code",
   "execution_count": 58,
   "id": "7fe32ab4",
   "metadata": {},
   "outputs": [
    {
     "name": "stdout",
     "output_type": "stream",
     "text": [
      "1 tensor([-2.1235,  4.8067, -0.8803]) 1\n",
      "2 tensor([-1.7920,  5.3100, -1.5693]) 1\n",
      "3 tensor([  6.3723,   0.8741, -10.0971]) 0\n",
      "4 tensor([-3.9129,  4.5951,  1.1509]) 1\n",
      "5 tensor([-7.4882,  3.1953,  5.7839]) 2\n",
      "6 tensor([-10.5202,   1.6381,   9.6291]) 2\n",
      "7 tensor([  6.3364,   1.0237, -10.1951]) 0\n",
      "8 tensor([  7.0690,   0.7370, -10.9620]) 0\n",
      "9 tensor([-7.2218,  3.3422,  5.3528]) 2\n",
      "10 tensor([-9.4170,  2.5675,  8.1028]) 2\n",
      "11 tensor([-9.9029,  2.3388,  8.7142]) 2\n",
      "12 tensor([ 6.2942,  0.6938, -9.8046]) 0\n",
      "13 tensor([-9.3335,  2.1817,  8.1917]) 2\n",
      "14 tensor([-3.7832,  4.5046,  1.0603]) 1\n",
      "15 tensor([-7.8793,  3.0060,  6.2225]) 2\n",
      "16 tensor([-1.8810,  5.1571, -1.3572]) 1\n",
      "17 tensor([-5.7107,  3.5003,  3.6612]) 2\n",
      "18 tensor([  7.2014,   0.7687, -11.1842]) 0\n",
      "19 tensor([-3.2961,  4.7939,  0.3307]) 1\n",
      "20 tensor([-7.7822,  3.7560,  5.7040]) 2\n",
      "21 tensor([  6.6703,   0.8191, -10.4707]) 0\n",
      "22 tensor([  7.4580,   0.9259, -11.7103]) 0\n",
      "23 tensor([-9.7801,  2.1658,  8.6656]) 2\n",
      "24 tensor([  6.5976,   0.7715, -10.3186]) 0\n",
      "25 tensor([-7.4281,  2.8654,  5.9397]) 2\n",
      "26 tensor([-6.1649,  3.3994,  4.2207]) 2\n",
      "27 tensor([-3.1644,  4.7467,  0.2535]) 1\n",
      "28 tensor([-1.5378,  4.9042, -1.5792]) 1\n",
      "29 tensor([-7.4479,  3.1046,  5.7293]) 2\n",
      "30 tensor([-6.7186,  3.1143,  4.9560]) 2\n",
      "We got 30 correct\n"
     ]
    }
   ],
   "source": [
    "correct=0\n",
    "\n",
    "with torch.no_grad():\n",
    "    for i, data in enumerate (X_test):\n",
    "        y_val=model.forward(data)\n",
    "        print(f'{i+1} {str(y_val)} {y_test[i]}')  #the higher the value, the more the probability \n",
    "        \n",
    "        if y_val.argmax().item()==y_test[i]:\n",
    "            correct+=1\n",
    "print(f'We got {correct} correct')"
   ]
  },
  {
   "cell_type": "code",
   "execution_count": 59,
   "id": "bdaff924",
   "metadata": {},
   "outputs": [],
   "source": [
    "torch.save(model.state_dict(), 'my_iris_model.pt')\n"
   ]
  },
  {
   "cell_type": "code",
   "execution_count": 60,
   "id": "cfd22194",
   "metadata": {},
   "outputs": [
    {
     "data": {
      "text/plain": [
       "<All keys matched successfully>"
      ]
     },
     "execution_count": 60,
     "metadata": {},
     "output_type": "execute_result"
    }
   ],
   "source": [
    "new_model=Model() #this model has no idea what the weights and biases should be \n",
    "new_model.load_state_dict(torch.load('my_iris_model.pt'))\n"
   ]
  },
  {
   "cell_type": "code",
   "execution_count": 62,
   "id": "9df55f49",
   "metadata": {},
   "outputs": [
    {
     "data": {
      "text/plain": [
       "Model(\n",
       "  (fc1): Linear(in_features=4, out_features=8, bias=True)\n",
       "  (fc2): Linear(in_features=8, out_features=9, bias=True)\n",
       "  (out): Linear(in_features=9, out_features=3, bias=True)\n",
       ")"
      ]
     },
     "execution_count": 62,
     "metadata": {},
     "output_type": "execute_result"
    }
   ],
   "source": [
    "new_model.eval()"
   ]
  },
  {
   "cell_type": "code",
   "execution_count": 63,
   "id": "73055d1a",
   "metadata": {},
   "outputs": [],
   "source": [
    "mystery_iris=torch.tensor([5.6, 3.7, 2.2, 0.5])\n"
   ]
  },
  {
   "cell_type": "code",
   "execution_count": 66,
   "id": "ad76301e",
   "metadata": {},
   "outputs": [
    {
     "name": "stdout",
     "output_type": "stream",
     "text": [
      "tensor([  5.9874,   1.5769, -10.0753])\n",
      "tensor(0)\n"
     ]
    }
   ],
   "source": [
    "with torch.no_grad():\n",
    "    print(new_model(mystery_iris)) #you can use new_model or the old one, they're essentially the same \n",
    "    print(new_model(mystery_iris).argmax())"
   ]
  },
  {
   "cell_type": "code",
   "execution_count": null,
   "id": "9fe8ab6a",
   "metadata": {},
   "outputs": [],
   "source": []
  }
 ],
 "metadata": {
  "kernelspec": {
   "display_name": "Python 3 (ipykernel)",
   "language": "python",
   "name": "python3"
  },
  "language_info": {
   "codemirror_mode": {
    "name": "ipython",
    "version": 3
   },
   "file_extension": ".py",
   "mimetype": "text/x-python",
   "name": "python",
   "nbconvert_exporter": "python",
   "pygments_lexer": "ipython3",
   "version": "3.11.5"
  }
 },
 "nbformat": 4,
 "nbformat_minor": 5
}
