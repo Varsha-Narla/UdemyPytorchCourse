{
 "cells": [
  {
   "cell_type": "code",
   "execution_count": 3,
   "id": "75bd1e16",
   "metadata": {},
   "outputs": [],
   "source": [
    "import torch\n",
    "import torch.nn as nn\n",
    "import numpy as np\n",
    "import pandas as pd"
   ]
  },
  {
   "cell_type": "code",
   "execution_count": 4,
   "id": "6aedace6",
   "metadata": {},
   "outputs": [],
   "source": [
    "df=pd.read_csv('C:\\\\Users\\\\DELL\\\\anaconda3\\\\Lib\\\\site-packages\\\\datashader\\\\examples\\\\data\\\\.data_stubs\\\\nyc_taxi.csv')"
   ]
  },
  {
   "cell_type": "code",
   "execution_count": 5,
   "id": "b9760c9e",
   "metadata": {},
   "outputs": [
    {
     "data": {
      "text/html": [
       "<div>\n",
       "<style scoped>\n",
       "    .dataframe tbody tr th:only-of-type {\n",
       "        vertical-align: middle;\n",
       "    }\n",
       "\n",
       "    .dataframe tbody tr th {\n",
       "        vertical-align: top;\n",
       "    }\n",
       "\n",
       "    .dataframe thead th {\n",
       "        text-align: right;\n",
       "    }\n",
       "</style>\n",
       "<table border=\"1\" class=\"dataframe\">\n",
       "  <thead>\n",
       "    <tr style=\"text-align: right;\">\n",
       "      <th></th>\n",
       "      <th>Unnamed: 0</th>\n",
       "      <th>VendorID</th>\n",
       "      <th>tpep_pickup_datetime</th>\n",
       "      <th>tpep_dropoff_datetime</th>\n",
       "      <th>passenger_count</th>\n",
       "      <th>trip_distance</th>\n",
       "      <th>pickup_x</th>\n",
       "      <th>pickup_y</th>\n",
       "      <th>RateCodeID</th>\n",
       "      <th>store_and_fwd_flag</th>\n",
       "      <th>dropoff_x</th>\n",
       "      <th>dropoff_y</th>\n",
       "      <th>payment_type</th>\n",
       "      <th>fare_amount</th>\n",
       "      <th>extra</th>\n",
       "      <th>mta_tax</th>\n",
       "      <th>tip_amount</th>\n",
       "      <th>tolls_amount</th>\n",
       "      <th>improvement_surcharge</th>\n",
       "      <th>total_amount</th>\n",
       "    </tr>\n",
       "  </thead>\n",
       "  <tbody>\n",
       "    <tr>\n",
       "      <th>0</th>\n",
       "      <td>10064589</td>\n",
       "      <td>2</td>\n",
       "      <td>2015-01-01 20:20:57</td>\n",
       "      <td>2015-01-01 20:30:39</td>\n",
       "      <td>1</td>\n",
       "      <td>4.02</td>\n",
       "      <td>-8.232723e+06</td>\n",
       "      <td>4.979400e+06</td>\n",
       "      <td>1</td>\n",
       "      <td>N</td>\n",
       "      <td>-8.235438e+06</td>\n",
       "      <td>4.973928e+06</td>\n",
       "      <td>1</td>\n",
       "      <td>13.5</td>\n",
       "      <td>0.5</td>\n",
       "      <td>0.5</td>\n",
       "      <td>1.50</td>\n",
       "      <td>0.0</td>\n",
       "      <td>0.3</td>\n",
       "      <td>16.30</td>\n",
       "    </tr>\n",
       "    <tr>\n",
       "      <th>1</th>\n",
       "      <td>8451911</td>\n",
       "      <td>1</td>\n",
       "      <td>2015-01-15 12:35:56</td>\n",
       "      <td>2015-01-15 12:52:29</td>\n",
       "      <td>1</td>\n",
       "      <td>2.40</td>\n",
       "      <td>-8.233768e+06</td>\n",
       "      <td>4.979199e+06</td>\n",
       "      <td>1</td>\n",
       "      <td>N</td>\n",
       "      <td>-8.236276e+06</td>\n",
       "      <td>4.974675e+06</td>\n",
       "      <td>1</td>\n",
       "      <td>12.0</td>\n",
       "      <td>0.0</td>\n",
       "      <td>0.5</td>\n",
       "      <td>2.55</td>\n",
       "      <td>0.0</td>\n",
       "      <td>0.3</td>\n",
       "      <td>15.35</td>\n",
       "    </tr>\n",
       "    <tr>\n",
       "      <th>2</th>\n",
       "      <td>1030538</td>\n",
       "      <td>1</td>\n",
       "      <td>2015-01-02 22:02:55</td>\n",
       "      <td>2015-01-02 22:09:17</td>\n",
       "      <td>1</td>\n",
       "      <td>0.90</td>\n",
       "      <td>-8.236912e+06</td>\n",
       "      <td>4.972484e+06</td>\n",
       "      <td>1</td>\n",
       "      <td>N</td>\n",
       "      <td>-8.235815e+06</td>\n",
       "      <td>4.972018e+06</td>\n",
       "      <td>1</td>\n",
       "      <td>5.7</td>\n",
       "      <td>0.5</td>\n",
       "      <td>0.5</td>\n",
       "      <td>1.40</td>\n",
       "      <td>0.0</td>\n",
       "      <td>0.0</td>\n",
       "      <td>8.40</td>\n",
       "    </tr>\n",
       "    <tr>\n",
       "      <th>3</th>\n",
       "      <td>8061903</td>\n",
       "      <td>2</td>\n",
       "      <td>2015-01-19 09:47:07</td>\n",
       "      <td>2015-01-19 09:50:40</td>\n",
       "      <td>2</td>\n",
       "      <td>1.01</td>\n",
       "      <td>-8.232874e+06</td>\n",
       "      <td>4.979104e+06</td>\n",
       "      <td>1</td>\n",
       "      <td>N</td>\n",
       "      <td>-8.231489e+06</td>\n",
       "      <td>4.979778e+06</td>\n",
       "      <td>2</td>\n",
       "      <td>5.0</td>\n",
       "      <td>0.0</td>\n",
       "      <td>0.5</td>\n",
       "      <td>0.00</td>\n",
       "      <td>0.0</td>\n",
       "      <td>0.3</td>\n",
       "      <td>5.80</td>\n",
       "    </tr>\n",
       "    <tr>\n",
       "      <th>4</th>\n",
       "      <td>6446658</td>\n",
       "      <td>2</td>\n",
       "      <td>2015-01-09 17:32:26</td>\n",
       "      <td>2015-01-09 17:52:10</td>\n",
       "      <td>5</td>\n",
       "      <td>2.73</td>\n",
       "      <td>-8.236896e+06</td>\n",
       "      <td>4.976339e+06</td>\n",
       "      <td>1</td>\n",
       "      <td>N</td>\n",
       "      <td>-8.235296e+06</td>\n",
       "      <td>4.972574e+06</td>\n",
       "      <td>1</td>\n",
       "      <td>14.0</td>\n",
       "      <td>1.0</td>\n",
       "      <td>0.5</td>\n",
       "      <td>3.00</td>\n",
       "      <td>0.0</td>\n",
       "      <td>0.3</td>\n",
       "      <td>18.80</td>\n",
       "    </tr>\n",
       "  </tbody>\n",
       "</table>\n",
       "</div>"
      ],
      "text/plain": [
       "   Unnamed: 0  VendorID tpep_pickup_datetime tpep_dropoff_datetime  \\\n",
       "0    10064589         2  2015-01-01 20:20:57   2015-01-01 20:30:39   \n",
       "1     8451911         1  2015-01-15 12:35:56   2015-01-15 12:52:29   \n",
       "2     1030538         1  2015-01-02 22:02:55   2015-01-02 22:09:17   \n",
       "3     8061903         2  2015-01-19 09:47:07   2015-01-19 09:50:40   \n",
       "4     6446658         2  2015-01-09 17:32:26   2015-01-09 17:52:10   \n",
       "\n",
       "   passenger_count  trip_distance      pickup_x      pickup_y  RateCodeID  \\\n",
       "0                1           4.02 -8.232723e+06  4.979400e+06           1   \n",
       "1                1           2.40 -8.233768e+06  4.979199e+06           1   \n",
       "2                1           0.90 -8.236912e+06  4.972484e+06           1   \n",
       "3                2           1.01 -8.232874e+06  4.979104e+06           1   \n",
       "4                5           2.73 -8.236896e+06  4.976339e+06           1   \n",
       "\n",
       "  store_and_fwd_flag     dropoff_x     dropoff_y  payment_type  fare_amount  \\\n",
       "0                  N -8.235438e+06  4.973928e+06             1         13.5   \n",
       "1                  N -8.236276e+06  4.974675e+06             1         12.0   \n",
       "2                  N -8.235815e+06  4.972018e+06             1          5.7   \n",
       "3                  N -8.231489e+06  4.979778e+06             2          5.0   \n",
       "4                  N -8.235296e+06  4.972574e+06             1         14.0   \n",
       "\n",
       "   extra  mta_tax  tip_amount  tolls_amount  improvement_surcharge  \\\n",
       "0    0.5      0.5        1.50           0.0                    0.3   \n",
       "1    0.0      0.5        2.55           0.0                    0.3   \n",
       "2    0.5      0.5        1.40           0.0                    0.0   \n",
       "3    0.0      0.5        0.00           0.0                    0.3   \n",
       "4    1.0      0.5        3.00           0.0                    0.3   \n",
       "\n",
       "   total_amount  \n",
       "0         16.30  \n",
       "1         15.35  \n",
       "2          8.40  \n",
       "3          5.80  \n",
       "4         18.80  "
      ]
     },
     "execution_count": 5,
     "metadata": {},
     "output_type": "execute_result"
    }
   ],
   "source": [
    "df.head()"
   ]
  },
  {
   "cell_type": "code",
   "execution_count": 6,
   "id": "ec843375",
   "metadata": {},
   "outputs": [
    {
     "data": {
      "text/plain": [
       "count    50000.000000\n",
       "mean         9.432078\n",
       "std          5.292303\n",
       "min         -4.500000\n",
       "25%          6.000000\n",
       "50%          8.000000\n",
       "75%         11.500000\n",
       "max        400.000000\n",
       "Name: fare_amount, dtype: float64"
      ]
     },
     "execution_count": 6,
     "metadata": {},
     "output_type": "execute_result"
    }
   ],
   "source": [
    "df['fare_amount'].describe()"
   ]
  },
  {
   "cell_type": "code",
   "execution_count": 7,
   "id": "18f754b4",
   "metadata": {},
   "outputs": [],
   "source": [
    "def haversine_distance(df, lat1, long1, lat2, long2):\n",
    "    r = 6371  # Earth's radius in kilometers\n",
    "    phi1 = np.radians(df[lat1])\n",
    "    phi2 = np.radians(df[lat2])\n",
    "    \n",
    "    delta_phi = np.radians(df[lat2] - df[lat1])\n",
    "    delta_lambda = np.radians(df[long2] - df[long1])\n",
    "    \n",
    "    a = np.sin(delta_phi / 2) ** 2 + np.cos(phi1) * np.cos(phi2) * np.sin(delta_lambda / 2) ** 2\n",
    "    c = 2 * np.arctan2(np.sqrt(a), np.sqrt(1 - a))\n",
    "    d = r * c\n",
    "    \n",
    "    return d\n"
   ]
  },
  {
   "cell_type": "code",
   "execution_count": 8,
   "id": "294a8b77",
   "metadata": {},
   "outputs": [
    {
     "data": {
      "text/plain": [
       "Index(['Unnamed: 0', 'VendorID', 'tpep_pickup_datetime',\n",
       "       'tpep_dropoff_datetime', 'passenger_count', 'trip_distance', 'pickup_x',\n",
       "       'pickup_y', 'RateCodeID', 'store_and_fwd_flag', 'dropoff_x',\n",
       "       'dropoff_y', 'payment_type', 'fare_amount', 'extra', 'mta_tax',\n",
       "       'tip_amount', 'tolls_amount', 'improvement_surcharge', 'total_amount'],\n",
       "      dtype='object')"
      ]
     },
     "execution_count": 8,
     "metadata": {},
     "output_type": "execute_result"
    }
   ],
   "source": [
    "df.columns"
   ]
  },
  {
   "cell_type": "code",
   "execution_count": 9,
   "id": "eab4acfb",
   "metadata": {},
   "outputs": [],
   "source": [
    "df['dist_km']=haversine_distance(df,'pickup_x','pickup_y', 'dropoff_x','dropoff_y' )"
   ]
  },
  {
   "cell_type": "code",
   "execution_count": 10,
   "id": "f3625c1d",
   "metadata": {},
   "outputs": [
    {
     "data": {
      "text/html": [
       "<div>\n",
       "<style scoped>\n",
       "    .dataframe tbody tr th:only-of-type {\n",
       "        vertical-align: middle;\n",
       "    }\n",
       "\n",
       "    .dataframe tbody tr th {\n",
       "        vertical-align: top;\n",
       "    }\n",
       "\n",
       "    .dataframe thead th {\n",
       "        text-align: right;\n",
       "    }\n",
       "</style>\n",
       "<table border=\"1\" class=\"dataframe\">\n",
       "  <thead>\n",
       "    <tr style=\"text-align: right;\">\n",
       "      <th></th>\n",
       "      <th>Unnamed: 0</th>\n",
       "      <th>VendorID</th>\n",
       "      <th>tpep_pickup_datetime</th>\n",
       "      <th>tpep_dropoff_datetime</th>\n",
       "      <th>passenger_count</th>\n",
       "      <th>trip_distance</th>\n",
       "      <th>pickup_x</th>\n",
       "      <th>pickup_y</th>\n",
       "      <th>RateCodeID</th>\n",
       "      <th>store_and_fwd_flag</th>\n",
       "      <th>...</th>\n",
       "      <th>dropoff_y</th>\n",
       "      <th>payment_type</th>\n",
       "      <th>fare_amount</th>\n",
       "      <th>extra</th>\n",
       "      <th>mta_tax</th>\n",
       "      <th>tip_amount</th>\n",
       "      <th>tolls_amount</th>\n",
       "      <th>improvement_surcharge</th>\n",
       "      <th>total_amount</th>\n",
       "      <th>dist_km</th>\n",
       "    </tr>\n",
       "  </thead>\n",
       "  <tbody>\n",
       "    <tr>\n",
       "      <th>0</th>\n",
       "      <td>10064589</td>\n",
       "      <td>2</td>\n",
       "      <td>2015-01-01 20:20:57</td>\n",
       "      <td>2015-01-01 20:30:39</td>\n",
       "      <td>1</td>\n",
       "      <td>4.02</td>\n",
       "      <td>-8.232723e+06</td>\n",
       "      <td>4.979400e+06</td>\n",
       "      <td>1</td>\n",
       "      <td>N</td>\n",
       "      <td>...</td>\n",
       "      <td>4.973928e+06</td>\n",
       "      <td>1</td>\n",
       "      <td>13.5</td>\n",
       "      <td>0.5</td>\n",
       "      <td>0.5</td>\n",
       "      <td>1.50</td>\n",
       "      <td>0.0</td>\n",
       "      <td>0.3</td>\n",
       "      <td>16.30</td>\n",
       "      <td>17146.288437</td>\n",
       "    </tr>\n",
       "    <tr>\n",
       "      <th>1</th>\n",
       "      <td>8451911</td>\n",
       "      <td>1</td>\n",
       "      <td>2015-01-15 12:35:56</td>\n",
       "      <td>2015-01-15 12:52:29</td>\n",
       "      <td>1</td>\n",
       "      <td>2.40</td>\n",
       "      <td>-8.233768e+06</td>\n",
       "      <td>4.979199e+06</td>\n",
       "      <td>1</td>\n",
       "      <td>N</td>\n",
       "      <td>...</td>\n",
       "      <td>4.974675e+06</td>\n",
       "      <td>1</td>\n",
       "      <td>12.0</td>\n",
       "      <td>0.0</td>\n",
       "      <td>0.5</td>\n",
       "      <td>2.55</td>\n",
       "      <td>0.0</td>\n",
       "      <td>0.3</td>\n",
       "      <td>15.35</td>\n",
       "      <td>14535.339756</td>\n",
       "    </tr>\n",
       "    <tr>\n",
       "      <th>2</th>\n",
       "      <td>1030538</td>\n",
       "      <td>1</td>\n",
       "      <td>2015-01-02 22:02:55</td>\n",
       "      <td>2015-01-02 22:09:17</td>\n",
       "      <td>1</td>\n",
       "      <td>0.90</td>\n",
       "      <td>-8.236912e+06</td>\n",
       "      <td>4.972484e+06</td>\n",
       "      <td>1</td>\n",
       "      <td>N</td>\n",
       "      <td>...</td>\n",
       "      <td>4.972018e+06</td>\n",
       "      <td>1</td>\n",
       "      <td>5.7</td>\n",
       "      <td>0.5</td>\n",
       "      <td>0.5</td>\n",
       "      <td>1.40</td>\n",
       "      <td>0.0</td>\n",
       "      <td>0.0</td>\n",
       "      <td>8.40</td>\n",
       "      <td>2621.057632</td>\n",
       "    </tr>\n",
       "    <tr>\n",
       "      <th>3</th>\n",
       "      <td>8061903</td>\n",
       "      <td>2</td>\n",
       "      <td>2015-01-19 09:47:07</td>\n",
       "      <td>2015-01-19 09:50:40</td>\n",
       "      <td>2</td>\n",
       "      <td>1.01</td>\n",
       "      <td>-8.232874e+06</td>\n",
       "      <td>4.979104e+06</td>\n",
       "      <td>1</td>\n",
       "      <td>N</td>\n",
       "      <td>...</td>\n",
       "      <td>4.979778e+06</td>\n",
       "      <td>2</td>\n",
       "      <td>5.0</td>\n",
       "      <td>0.0</td>\n",
       "      <td>0.5</td>\n",
       "      <td>0.00</td>\n",
       "      <td>0.0</td>\n",
       "      <td>0.3</td>\n",
       "      <td>5.80</td>\n",
       "      <td>6122.656650</td>\n",
       "    </tr>\n",
       "    <tr>\n",
       "      <th>4</th>\n",
       "      <td>6446658</td>\n",
       "      <td>2</td>\n",
       "      <td>2015-01-09 17:32:26</td>\n",
       "      <td>2015-01-09 17:52:10</td>\n",
       "      <td>5</td>\n",
       "      <td>2.73</td>\n",
       "      <td>-8.236896e+06</td>\n",
       "      <td>4.976339e+06</td>\n",
       "      <td>1</td>\n",
       "      <td>N</td>\n",
       "      <td>...</td>\n",
       "      <td>4.972574e+06</td>\n",
       "      <td>1</td>\n",
       "      <td>14.0</td>\n",
       "      <td>1.0</td>\n",
       "      <td>0.5</td>\n",
       "      <td>3.00</td>\n",
       "      <td>0.0</td>\n",
       "      <td>0.3</td>\n",
       "      <td>18.80</td>\n",
       "      <td>16532.803377</td>\n",
       "    </tr>\n",
       "  </tbody>\n",
       "</table>\n",
       "<p>5 rows × 21 columns</p>\n",
       "</div>"
      ],
      "text/plain": [
       "   Unnamed: 0  VendorID tpep_pickup_datetime tpep_dropoff_datetime  \\\n",
       "0    10064589         2  2015-01-01 20:20:57   2015-01-01 20:30:39   \n",
       "1     8451911         1  2015-01-15 12:35:56   2015-01-15 12:52:29   \n",
       "2     1030538         1  2015-01-02 22:02:55   2015-01-02 22:09:17   \n",
       "3     8061903         2  2015-01-19 09:47:07   2015-01-19 09:50:40   \n",
       "4     6446658         2  2015-01-09 17:32:26   2015-01-09 17:52:10   \n",
       "\n",
       "   passenger_count  trip_distance      pickup_x      pickup_y  RateCodeID  \\\n",
       "0                1           4.02 -8.232723e+06  4.979400e+06           1   \n",
       "1                1           2.40 -8.233768e+06  4.979199e+06           1   \n",
       "2                1           0.90 -8.236912e+06  4.972484e+06           1   \n",
       "3                2           1.01 -8.232874e+06  4.979104e+06           1   \n",
       "4                5           2.73 -8.236896e+06  4.976339e+06           1   \n",
       "\n",
       "  store_and_fwd_flag  ...     dropoff_y  payment_type  fare_amount  extra  \\\n",
       "0                  N  ...  4.973928e+06             1         13.5    0.5   \n",
       "1                  N  ...  4.974675e+06             1         12.0    0.0   \n",
       "2                  N  ...  4.972018e+06             1          5.7    0.5   \n",
       "3                  N  ...  4.979778e+06             2          5.0    0.0   \n",
       "4                  N  ...  4.972574e+06             1         14.0    1.0   \n",
       "\n",
       "   mta_tax  tip_amount  tolls_amount  improvement_surcharge  total_amount  \\\n",
       "0      0.5        1.50           0.0                    0.3         16.30   \n",
       "1      0.5        2.55           0.0                    0.3         15.35   \n",
       "2      0.5        1.40           0.0                    0.0          8.40   \n",
       "3      0.5        0.00           0.0                    0.3          5.80   \n",
       "4      0.5        3.00           0.0                    0.3         18.80   \n",
       "\n",
       "        dist_km  \n",
       "0  17146.288437  \n",
       "1  14535.339756  \n",
       "2   2621.057632  \n",
       "3   6122.656650  \n",
       "4  16532.803377  \n",
       "\n",
       "[5 rows x 21 columns]"
      ]
     },
     "execution_count": 10,
     "metadata": {},
     "output_type": "execute_result"
    }
   ],
   "source": [
    "df.head()"
   ]
  },
  {
   "cell_type": "code",
   "execution_count": 11,
   "id": "df0e4495",
   "metadata": {},
   "outputs": [
    {
     "name": "stdout",
     "output_type": "stream",
     "text": [
      "<class 'pandas.core.frame.DataFrame'>\n",
      "RangeIndex: 50000 entries, 0 to 49999\n",
      "Data columns (total 21 columns):\n",
      " #   Column                 Non-Null Count  Dtype  \n",
      "---  ------                 --------------  -----  \n",
      " 0   Unnamed: 0             50000 non-null  int64  \n",
      " 1   VendorID               50000 non-null  int64  \n",
      " 2   tpep_pickup_datetime   50000 non-null  object \n",
      " 3   tpep_dropoff_datetime  50000 non-null  object \n",
      " 4   passenger_count        50000 non-null  int64  \n",
      " 5   trip_distance          50000 non-null  float64\n",
      " 6   pickup_x               50000 non-null  float64\n",
      " 7   pickup_y               50000 non-null  float64\n",
      " 8   RateCodeID             50000 non-null  int64  \n",
      " 9   store_and_fwd_flag     50000 non-null  object \n",
      " 10  dropoff_x              50000 non-null  float64\n",
      " 11  dropoff_y              50000 non-null  float64\n",
      " 12  payment_type           50000 non-null  int64  \n",
      " 13  fare_amount            50000 non-null  float64\n",
      " 14  extra                  50000 non-null  float64\n",
      " 15  mta_tax                50000 non-null  float64\n",
      " 16  tip_amount             50000 non-null  float64\n",
      " 17  tolls_amount           50000 non-null  float64\n",
      " 18  improvement_surcharge  50000 non-null  float64\n",
      " 19  total_amount           50000 non-null  float64\n",
      " 20  dist_km                50000 non-null  float64\n",
      "dtypes: float64(13), int64(5), object(3)\n",
      "memory usage: 8.0+ MB\n"
     ]
    }
   ],
   "source": [
    "df.info()"
   ]
  },
  {
   "cell_type": "code",
   "execution_count": 12,
   "id": "6ac7c0d7",
   "metadata": {},
   "outputs": [],
   "source": [
    "df['tpep_pickup_datetime']=pd.to_datetime(df['tpep_pickup_datetime'])"
   ]
  },
  {
   "cell_type": "code",
   "execution_count": 13,
   "id": "365ec384",
   "metadata": {},
   "outputs": [
    {
     "name": "stdout",
     "output_type": "stream",
     "text": [
      "<class 'pandas.core.frame.DataFrame'>\n",
      "RangeIndex: 50000 entries, 0 to 49999\n",
      "Data columns (total 21 columns):\n",
      " #   Column                 Non-Null Count  Dtype         \n",
      "---  ------                 --------------  -----         \n",
      " 0   Unnamed: 0             50000 non-null  int64         \n",
      " 1   VendorID               50000 non-null  int64         \n",
      " 2   tpep_pickup_datetime   50000 non-null  datetime64[ns]\n",
      " 3   tpep_dropoff_datetime  50000 non-null  object        \n",
      " 4   passenger_count        50000 non-null  int64         \n",
      " 5   trip_distance          50000 non-null  float64       \n",
      " 6   pickup_x               50000 non-null  float64       \n",
      " 7   pickup_y               50000 non-null  float64       \n",
      " 8   RateCodeID             50000 non-null  int64         \n",
      " 9   store_and_fwd_flag     50000 non-null  object        \n",
      " 10  dropoff_x              50000 non-null  float64       \n",
      " 11  dropoff_y              50000 non-null  float64       \n",
      " 12  payment_type           50000 non-null  int64         \n",
      " 13  fare_amount            50000 non-null  float64       \n",
      " 14  extra                  50000 non-null  float64       \n",
      " 15  mta_tax                50000 non-null  float64       \n",
      " 16  tip_amount             50000 non-null  float64       \n",
      " 17  tolls_amount           50000 non-null  float64       \n",
      " 18  improvement_surcharge  50000 non-null  float64       \n",
      " 19  total_amount           50000 non-null  float64       \n",
      " 20  dist_km                50000 non-null  float64       \n",
      "dtypes: datetime64[ns](1), float64(13), int64(5), object(2)\n",
      "memory usage: 8.0+ MB\n"
     ]
    }
   ],
   "source": [
    "df.info()"
   ]
  },
  {
   "cell_type": "code",
   "execution_count": 14,
   "id": "3abf83fe",
   "metadata": {},
   "outputs": [
    {
     "name": "stdout",
     "output_type": "stream",
     "text": [
      "      pickup_datetime  fare_amount fare_class  pickup_longitude  \\\n",
      "0 2015-01-01 20:20:57         13.5     Medium     -8.232723e+06   \n",
      "1 2015-01-15 12:35:56         12.0     Medium     -8.233768e+06   \n",
      "2 2015-01-02 22:02:55          5.7        Low     -8.236912e+06   \n",
      "3 2015-01-19 09:47:07          5.0        Low     -8.232874e+06   \n",
      "4 2015-01-09 17:32:26         14.0     Medium     -8.236896e+06   \n",
      "\n",
      "   pickup_latitude  dropoff_latitude  dropoff_longitude  passenger_count  \\\n",
      "0     4.979400e+06      4.973928e+06      -8.235438e+06                1   \n",
      "1     4.979199e+06      4.974675e+06      -8.236276e+06                1   \n",
      "2     4.972484e+06      4.972018e+06      -8.235815e+06                1   \n",
      "3     4.979104e+06      4.979778e+06      -8.231489e+06                2   \n",
      "4     4.976339e+06      4.972574e+06      -8.235296e+06                5   \n",
      "\n",
      "        dist_km  \n",
      "0  17146.288437  \n",
      "1  14535.339756  \n",
      "2   2621.057632  \n",
      "3   6122.656650  \n",
      "4  16532.803377  \n"
     ]
    }
   ],
   "source": [
    "# Assuming your DataFrame is named df\n",
    "df['pickup_datetime'] = df['tpep_pickup_datetime']  # Renaming pickup datetime\n",
    "df['pickup_longitude'] = df['pickup_x']             # Renaming pickup longitude\n",
    "df['pickup_latitude'] = df['pickup_y']              # Renaming pickup latitude\n",
    "df['dropoff_latitude'] = df['dropoff_y']            # Renaming dropoff latitude\n",
    "df['dropoff_longitude'] = df['dropoff_x']           # Renaming dropoff longitude\n",
    "\n",
    "# Creating fare_class based on fare_amount\n",
    "def classify_fare(fare):\n",
    "    if fare < 10:\n",
    "        return 'Low'\n",
    "    elif 10 <= fare < 30:\n",
    "        return 'Medium'\n",
    "    else:\n",
    "        return 'High'\n",
    "\n",
    "df['fare_class'] = df['fare_amount'].apply(classify_fare)\n",
    "\n",
    "# Selecting only the needed columns\n",
    "df_needed = df[['pickup_datetime', 'fare_amount', 'fare_class', \n",
    "                'pickup_longitude', 'pickup_latitude', 'dropoff_latitude', \n",
    "                'dropoff_longitude', 'passenger_count', 'dist_km']]\n",
    "\n",
    "# Displaying the new dataset\n",
    "print(df_needed.head())\n"
   ]
  },
  {
   "cell_type": "code",
   "execution_count": 15,
   "id": "667e0529",
   "metadata": {},
   "outputs": [
    {
     "name": "stdout",
     "output_type": "stream",
     "text": [
      "      pickup_datetime  fare_amount fare_class  pickup_longitude  \\\n",
      "0 2015-01-01 20:20:57         13.5     Medium     -8.232723e+06   \n",
      "1 2015-01-15 12:35:56         12.0     Medium     -8.233768e+06   \n",
      "2 2015-01-02 22:02:55          5.7        Low     -8.236912e+06   \n",
      "3 2015-01-19 09:47:07          5.0        Low     -8.232874e+06   \n",
      "4 2015-01-09 17:32:26         14.0     Medium     -8.236896e+06   \n",
      "\n",
      "   pickup_latitude  dropoff_latitude  dropoff_longitude  passenger_count  \\\n",
      "0     4.979400e+06      4.973928e+06      -8.235438e+06                1   \n",
      "1     4.979199e+06      4.974675e+06      -8.236276e+06                1   \n",
      "2     4.972484e+06      4.972018e+06      -8.235815e+06                1   \n",
      "3     4.979104e+06      4.979778e+06      -8.231489e+06                2   \n",
      "4     4.976339e+06      4.972574e+06      -8.235296e+06                5   \n",
      "\n",
      "        dist_km  \n",
      "0  17146.288437  \n",
      "1  14535.339756  \n",
      "2   2621.057632  \n",
      "3   6122.656650  \n",
      "4  16532.803377  \n"
     ]
    }
   ],
   "source": [
    "\n",
    "def classify_fare(fare):\n",
    "    if fare < 10:\n",
    "        return '0'\n",
    "    elif 10 <= fare < 30:\n",
    "        return '1'\n",
    "    else:\n",
    "        return '2'\n",
    "\n",
    "df['fare_class'] = df['fare_amount'].apply(classify_fare)\n",
    "\n",
    "\n",
    "# Apply the classify_fare function and avoid the SettingWithCopyWarning\n",
    "df.loc[:, 'fare_class'] = df['fare_amount'].apply(classify_fare)\n",
    "\n",
    "# Selecting only the needed columns\n",
    "df = df[['pickup_datetime', 'fare_amount', 'fare_class', \n",
    "                'pickup_longitude', 'pickup_latitude', 'dropoff_latitude', \n",
    "                'dropoff_longitude', 'passenger_count', 'dist_km']]\n",
    "\n",
    "# Displaying the new dataset\n",
    "print(df_needed.head())\n",
    "\n"
   ]
  },
  {
   "cell_type": "code",
   "execution_count": 16,
   "id": "3d0d491c",
   "metadata": {},
   "outputs": [
    {
     "data": {
      "text/html": [
       "<div>\n",
       "<style scoped>\n",
       "    .dataframe tbody tr th:only-of-type {\n",
       "        vertical-align: middle;\n",
       "    }\n",
       "\n",
       "    .dataframe tbody tr th {\n",
       "        vertical-align: top;\n",
       "    }\n",
       "\n",
       "    .dataframe thead th {\n",
       "        text-align: right;\n",
       "    }\n",
       "</style>\n",
       "<table border=\"1\" class=\"dataframe\">\n",
       "  <thead>\n",
       "    <tr style=\"text-align: right;\">\n",
       "      <th></th>\n",
       "      <th>pickup_datetime</th>\n",
       "      <th>fare_amount</th>\n",
       "      <th>fare_class</th>\n",
       "      <th>pickup_longitude</th>\n",
       "      <th>pickup_latitude</th>\n",
       "      <th>dropoff_latitude</th>\n",
       "      <th>dropoff_longitude</th>\n",
       "      <th>passenger_count</th>\n",
       "      <th>dist_km</th>\n",
       "    </tr>\n",
       "  </thead>\n",
       "  <tbody>\n",
       "    <tr>\n",
       "      <th>0</th>\n",
       "      <td>2015-01-01 20:20:57</td>\n",
       "      <td>13.5</td>\n",
       "      <td>1</td>\n",
       "      <td>-8.232723e+06</td>\n",
       "      <td>4.979400e+06</td>\n",
       "      <td>4.973928e+06</td>\n",
       "      <td>-8.235438e+06</td>\n",
       "      <td>1</td>\n",
       "      <td>17146.288437</td>\n",
       "    </tr>\n",
       "    <tr>\n",
       "      <th>1</th>\n",
       "      <td>2015-01-15 12:35:56</td>\n",
       "      <td>12.0</td>\n",
       "      <td>1</td>\n",
       "      <td>-8.233768e+06</td>\n",
       "      <td>4.979199e+06</td>\n",
       "      <td>4.974675e+06</td>\n",
       "      <td>-8.236276e+06</td>\n",
       "      <td>1</td>\n",
       "      <td>14535.339756</td>\n",
       "    </tr>\n",
       "    <tr>\n",
       "      <th>2</th>\n",
       "      <td>2015-01-02 22:02:55</td>\n",
       "      <td>5.7</td>\n",
       "      <td>0</td>\n",
       "      <td>-8.236912e+06</td>\n",
       "      <td>4.972484e+06</td>\n",
       "      <td>4.972018e+06</td>\n",
       "      <td>-8.235815e+06</td>\n",
       "      <td>1</td>\n",
       "      <td>2621.057632</td>\n",
       "    </tr>\n",
       "    <tr>\n",
       "      <th>3</th>\n",
       "      <td>2015-01-19 09:47:07</td>\n",
       "      <td>5.0</td>\n",
       "      <td>0</td>\n",
       "      <td>-8.232874e+06</td>\n",
       "      <td>4.979104e+06</td>\n",
       "      <td>4.979778e+06</td>\n",
       "      <td>-8.231489e+06</td>\n",
       "      <td>2</td>\n",
       "      <td>6122.656650</td>\n",
       "    </tr>\n",
       "    <tr>\n",
       "      <th>4</th>\n",
       "      <td>2015-01-09 17:32:26</td>\n",
       "      <td>14.0</td>\n",
       "      <td>1</td>\n",
       "      <td>-8.236896e+06</td>\n",
       "      <td>4.976339e+06</td>\n",
       "      <td>4.972574e+06</td>\n",
       "      <td>-8.235296e+06</td>\n",
       "      <td>5</td>\n",
       "      <td>16532.803377</td>\n",
       "    </tr>\n",
       "  </tbody>\n",
       "</table>\n",
       "</div>"
      ],
      "text/plain": [
       "      pickup_datetime  fare_amount fare_class  pickup_longitude  \\\n",
       "0 2015-01-01 20:20:57         13.5          1     -8.232723e+06   \n",
       "1 2015-01-15 12:35:56         12.0          1     -8.233768e+06   \n",
       "2 2015-01-02 22:02:55          5.7          0     -8.236912e+06   \n",
       "3 2015-01-19 09:47:07          5.0          0     -8.232874e+06   \n",
       "4 2015-01-09 17:32:26         14.0          1     -8.236896e+06   \n",
       "\n",
       "   pickup_latitude  dropoff_latitude  dropoff_longitude  passenger_count  \\\n",
       "0     4.979400e+06      4.973928e+06      -8.235438e+06                1   \n",
       "1     4.979199e+06      4.974675e+06      -8.236276e+06                1   \n",
       "2     4.972484e+06      4.972018e+06      -8.235815e+06                1   \n",
       "3     4.979104e+06      4.979778e+06      -8.231489e+06                2   \n",
       "4     4.976339e+06      4.972574e+06      -8.235296e+06                5   \n",
       "\n",
       "        dist_km  \n",
       "0  17146.288437  \n",
       "1  14535.339756  \n",
       "2   2621.057632  \n",
       "3   6122.656650  \n",
       "4  16532.803377  "
      ]
     },
     "execution_count": 16,
     "metadata": {},
     "output_type": "execute_result"
    }
   ],
   "source": [
    "df.head()"
   ]
  },
  {
   "cell_type": "code",
   "execution_count": 17,
   "id": "893daade",
   "metadata": {},
   "outputs": [],
   "source": [
    "my_time=df['pickup_datetime'][0]"
   ]
  },
  {
   "cell_type": "code",
   "execution_count": 18,
   "id": "99062072",
   "metadata": {},
   "outputs": [
    {
     "data": {
      "text/plain": [
       "Timestamp('2015-01-01 20:20:57')"
      ]
     },
     "execution_count": 18,
     "metadata": {},
     "output_type": "execute_result"
    }
   ],
   "source": [
    "my_time"
   ]
  },
  {
   "cell_type": "code",
   "execution_count": 19,
   "id": "929237b8",
   "metadata": {},
   "outputs": [
    {
     "data": {
      "text/plain": [
       "20"
      ]
     },
     "execution_count": 19,
     "metadata": {},
     "output_type": "execute_result"
    }
   ],
   "source": [
    "my_time.hour"
   ]
  },
  {
   "cell_type": "code",
   "execution_count": 20,
   "id": "83c448af",
   "metadata": {},
   "outputs": [
    {
     "name": "stdout",
     "output_type": "stream",
     "text": [
      "None\n"
     ]
    }
   ],
   "source": [
    "import pandas as pd\n",
    "\n",
    "# Example timestamp\n",
    "ts = pd.Timestamp('2015-01-01 20:20:57')\n",
    "\n",
    "# Check timezone\n",
    "print(ts.tzinfo)  # This will return None if no timezone is set\n"
   ]
  },
  {
   "cell_type": "code",
   "execution_count": 21,
   "id": "ac46714c",
   "metadata": {},
   "outputs": [],
   "source": [
    "# Localizing the datetime column to New York time\n",
    "df['pickup_datetime'] = df['pickup_datetime'].dt.tz_localize('America/New_York')\n"
   ]
  },
  {
   "cell_type": "code",
   "execution_count": 22,
   "id": "c6e4edb5",
   "metadata": {},
   "outputs": [
    {
     "data": {
      "text/html": [
       "<div>\n",
       "<style scoped>\n",
       "    .dataframe tbody tr th:only-of-type {\n",
       "        vertical-align: middle;\n",
       "    }\n",
       "\n",
       "    .dataframe tbody tr th {\n",
       "        vertical-align: top;\n",
       "    }\n",
       "\n",
       "    .dataframe thead th {\n",
       "        text-align: right;\n",
       "    }\n",
       "</style>\n",
       "<table border=\"1\" class=\"dataframe\">\n",
       "  <thead>\n",
       "    <tr style=\"text-align: right;\">\n",
       "      <th></th>\n",
       "      <th>pickup_datetime</th>\n",
       "      <th>fare_amount</th>\n",
       "      <th>fare_class</th>\n",
       "      <th>pickup_longitude</th>\n",
       "      <th>pickup_latitude</th>\n",
       "      <th>dropoff_latitude</th>\n",
       "      <th>dropoff_longitude</th>\n",
       "      <th>passenger_count</th>\n",
       "      <th>dist_km</th>\n",
       "    </tr>\n",
       "  </thead>\n",
       "  <tbody>\n",
       "    <tr>\n",
       "      <th>0</th>\n",
       "      <td>2015-01-01 20:20:57-05:00</td>\n",
       "      <td>13.5</td>\n",
       "      <td>1</td>\n",
       "      <td>-8.232723e+06</td>\n",
       "      <td>4.979400e+06</td>\n",
       "      <td>4.973928e+06</td>\n",
       "      <td>-8.235438e+06</td>\n",
       "      <td>1</td>\n",
       "      <td>17146.288437</td>\n",
       "    </tr>\n",
       "    <tr>\n",
       "      <th>1</th>\n",
       "      <td>2015-01-15 12:35:56-05:00</td>\n",
       "      <td>12.0</td>\n",
       "      <td>1</td>\n",
       "      <td>-8.233768e+06</td>\n",
       "      <td>4.979199e+06</td>\n",
       "      <td>4.974675e+06</td>\n",
       "      <td>-8.236276e+06</td>\n",
       "      <td>1</td>\n",
       "      <td>14535.339756</td>\n",
       "    </tr>\n",
       "    <tr>\n",
       "      <th>2</th>\n",
       "      <td>2015-01-02 22:02:55-05:00</td>\n",
       "      <td>5.7</td>\n",
       "      <td>0</td>\n",
       "      <td>-8.236912e+06</td>\n",
       "      <td>4.972484e+06</td>\n",
       "      <td>4.972018e+06</td>\n",
       "      <td>-8.235815e+06</td>\n",
       "      <td>1</td>\n",
       "      <td>2621.057632</td>\n",
       "    </tr>\n",
       "    <tr>\n",
       "      <th>3</th>\n",
       "      <td>2015-01-19 09:47:07-05:00</td>\n",
       "      <td>5.0</td>\n",
       "      <td>0</td>\n",
       "      <td>-8.232874e+06</td>\n",
       "      <td>4.979104e+06</td>\n",
       "      <td>4.979778e+06</td>\n",
       "      <td>-8.231489e+06</td>\n",
       "      <td>2</td>\n",
       "      <td>6122.656650</td>\n",
       "    </tr>\n",
       "    <tr>\n",
       "      <th>4</th>\n",
       "      <td>2015-01-09 17:32:26-05:00</td>\n",
       "      <td>14.0</td>\n",
       "      <td>1</td>\n",
       "      <td>-8.236896e+06</td>\n",
       "      <td>4.976339e+06</td>\n",
       "      <td>4.972574e+06</td>\n",
       "      <td>-8.235296e+06</td>\n",
       "      <td>5</td>\n",
       "      <td>16532.803377</td>\n",
       "    </tr>\n",
       "  </tbody>\n",
       "</table>\n",
       "</div>"
      ],
      "text/plain": [
       "            pickup_datetime  fare_amount fare_class  pickup_longitude  \\\n",
       "0 2015-01-01 20:20:57-05:00         13.5          1     -8.232723e+06   \n",
       "1 2015-01-15 12:35:56-05:00         12.0          1     -8.233768e+06   \n",
       "2 2015-01-02 22:02:55-05:00          5.7          0     -8.236912e+06   \n",
       "3 2015-01-19 09:47:07-05:00          5.0          0     -8.232874e+06   \n",
       "4 2015-01-09 17:32:26-05:00         14.0          1     -8.236896e+06   \n",
       "\n",
       "   pickup_latitude  dropoff_latitude  dropoff_longitude  passenger_count  \\\n",
       "0     4.979400e+06      4.973928e+06      -8.235438e+06                1   \n",
       "1     4.979199e+06      4.974675e+06      -8.236276e+06                1   \n",
       "2     4.972484e+06      4.972018e+06      -8.235815e+06                1   \n",
       "3     4.979104e+06      4.979778e+06      -8.231489e+06                2   \n",
       "4     4.976339e+06      4.972574e+06      -8.235296e+06                5   \n",
       "\n",
       "        dist_km  \n",
       "0  17146.288437  \n",
       "1  14535.339756  \n",
       "2   2621.057632  \n",
       "3   6122.656650  \n",
       "4  16532.803377  "
      ]
     },
     "execution_count": 22,
     "metadata": {},
     "output_type": "execute_result"
    }
   ],
   "source": [
    "df.head()"
   ]
  },
  {
   "cell_type": "code",
   "execution_count": 23,
   "id": "c5b90eff",
   "metadata": {},
   "outputs": [],
   "source": [
    "df['pickup_datetime'] = df['pickup_datetime'].dt.tz_localize(None)"
   ]
  },
  {
   "cell_type": "code",
   "execution_count": 24,
   "id": "527d5b55",
   "metadata": {},
   "outputs": [],
   "source": [
    "# Localizing the datetime column to New York time\n",
    "df['EDTdate'] = df['pickup_datetime'].dt.tz_localize('America/New_York')\n"
   ]
  },
  {
   "cell_type": "code",
   "execution_count": 25,
   "id": "4a481310",
   "metadata": {},
   "outputs": [
    {
     "data": {
      "text/html": [
       "<div>\n",
       "<style scoped>\n",
       "    .dataframe tbody tr th:only-of-type {\n",
       "        vertical-align: middle;\n",
       "    }\n",
       "\n",
       "    .dataframe tbody tr th {\n",
       "        vertical-align: top;\n",
       "    }\n",
       "\n",
       "    .dataframe thead th {\n",
       "        text-align: right;\n",
       "    }\n",
       "</style>\n",
       "<table border=\"1\" class=\"dataframe\">\n",
       "  <thead>\n",
       "    <tr style=\"text-align: right;\">\n",
       "      <th></th>\n",
       "      <th>pickup_datetime</th>\n",
       "      <th>fare_amount</th>\n",
       "      <th>fare_class</th>\n",
       "      <th>pickup_longitude</th>\n",
       "      <th>pickup_latitude</th>\n",
       "      <th>dropoff_latitude</th>\n",
       "      <th>dropoff_longitude</th>\n",
       "      <th>passenger_count</th>\n",
       "      <th>dist_km</th>\n",
       "      <th>EDTdate</th>\n",
       "    </tr>\n",
       "  </thead>\n",
       "  <tbody>\n",
       "    <tr>\n",
       "      <th>0</th>\n",
       "      <td>2015-01-01 20:20:57</td>\n",
       "      <td>13.5</td>\n",
       "      <td>1</td>\n",
       "      <td>-8.232723e+06</td>\n",
       "      <td>4.979400e+06</td>\n",
       "      <td>4.973928e+06</td>\n",
       "      <td>-8.235438e+06</td>\n",
       "      <td>1</td>\n",
       "      <td>17146.288437</td>\n",
       "      <td>2015-01-01 20:20:57-05:00</td>\n",
       "    </tr>\n",
       "    <tr>\n",
       "      <th>1</th>\n",
       "      <td>2015-01-15 12:35:56</td>\n",
       "      <td>12.0</td>\n",
       "      <td>1</td>\n",
       "      <td>-8.233768e+06</td>\n",
       "      <td>4.979199e+06</td>\n",
       "      <td>4.974675e+06</td>\n",
       "      <td>-8.236276e+06</td>\n",
       "      <td>1</td>\n",
       "      <td>14535.339756</td>\n",
       "      <td>2015-01-15 12:35:56-05:00</td>\n",
       "    </tr>\n",
       "    <tr>\n",
       "      <th>2</th>\n",
       "      <td>2015-01-02 22:02:55</td>\n",
       "      <td>5.7</td>\n",
       "      <td>0</td>\n",
       "      <td>-8.236912e+06</td>\n",
       "      <td>4.972484e+06</td>\n",
       "      <td>4.972018e+06</td>\n",
       "      <td>-8.235815e+06</td>\n",
       "      <td>1</td>\n",
       "      <td>2621.057632</td>\n",
       "      <td>2015-01-02 22:02:55-05:00</td>\n",
       "    </tr>\n",
       "    <tr>\n",
       "      <th>3</th>\n",
       "      <td>2015-01-19 09:47:07</td>\n",
       "      <td>5.0</td>\n",
       "      <td>0</td>\n",
       "      <td>-8.232874e+06</td>\n",
       "      <td>4.979104e+06</td>\n",
       "      <td>4.979778e+06</td>\n",
       "      <td>-8.231489e+06</td>\n",
       "      <td>2</td>\n",
       "      <td>6122.656650</td>\n",
       "      <td>2015-01-19 09:47:07-05:00</td>\n",
       "    </tr>\n",
       "    <tr>\n",
       "      <th>4</th>\n",
       "      <td>2015-01-09 17:32:26</td>\n",
       "      <td>14.0</td>\n",
       "      <td>1</td>\n",
       "      <td>-8.236896e+06</td>\n",
       "      <td>4.976339e+06</td>\n",
       "      <td>4.972574e+06</td>\n",
       "      <td>-8.235296e+06</td>\n",
       "      <td>5</td>\n",
       "      <td>16532.803377</td>\n",
       "      <td>2015-01-09 17:32:26-05:00</td>\n",
       "    </tr>\n",
       "  </tbody>\n",
       "</table>\n",
       "</div>"
      ],
      "text/plain": [
       "      pickup_datetime  fare_amount fare_class  pickup_longitude  \\\n",
       "0 2015-01-01 20:20:57         13.5          1     -8.232723e+06   \n",
       "1 2015-01-15 12:35:56         12.0          1     -8.233768e+06   \n",
       "2 2015-01-02 22:02:55          5.7          0     -8.236912e+06   \n",
       "3 2015-01-19 09:47:07          5.0          0     -8.232874e+06   \n",
       "4 2015-01-09 17:32:26         14.0          1     -8.236896e+06   \n",
       "\n",
       "   pickup_latitude  dropoff_latitude  dropoff_longitude  passenger_count  \\\n",
       "0     4.979400e+06      4.973928e+06      -8.235438e+06                1   \n",
       "1     4.979199e+06      4.974675e+06      -8.236276e+06                1   \n",
       "2     4.972484e+06      4.972018e+06      -8.235815e+06                1   \n",
       "3     4.979104e+06      4.979778e+06      -8.231489e+06                2   \n",
       "4     4.976339e+06      4.972574e+06      -8.235296e+06                5   \n",
       "\n",
       "        dist_km                   EDTdate  \n",
       "0  17146.288437 2015-01-01 20:20:57-05:00  \n",
       "1  14535.339756 2015-01-15 12:35:56-05:00  \n",
       "2   2621.057632 2015-01-02 22:02:55-05:00  \n",
       "3   6122.656650 2015-01-19 09:47:07-05:00  \n",
       "4  16532.803377 2015-01-09 17:32:26-05:00  "
      ]
     },
     "execution_count": 25,
     "metadata": {},
     "output_type": "execute_result"
    }
   ],
   "source": [
    "df.head()"
   ]
  },
  {
   "cell_type": "code",
   "execution_count": 26,
   "id": "8e7b6254",
   "metadata": {},
   "outputs": [],
   "source": [
    "df['Hour']=df['EDTdate'].dt.hour"
   ]
  },
  {
   "cell_type": "code",
   "execution_count": 27,
   "id": "34279389",
   "metadata": {},
   "outputs": [
    {
     "data": {
      "text/plain": [
       "0        20\n",
       "1        12\n",
       "2        22\n",
       "3         9\n",
       "4        17\n",
       "         ..\n",
       "49995     7\n",
       "49996    11\n",
       "49997    20\n",
       "49998     8\n",
       "49999     9\n",
       "Name: Hour, Length: 50000, dtype: int32"
      ]
     },
     "execution_count": 27,
     "metadata": {},
     "output_type": "execute_result"
    }
   ],
   "source": [
    "df['Hour']"
   ]
  },
  {
   "cell_type": "code",
   "execution_count": 28,
   "id": "3728fe19",
   "metadata": {},
   "outputs": [],
   "source": [
    "df['AMorPM']=np.where(df['Hour']<12, 'am', 'pm')"
   ]
  },
  {
   "cell_type": "code",
   "execution_count": 29,
   "id": "46ac4d55",
   "metadata": {},
   "outputs": [
    {
     "data": {
      "text/html": [
       "<div>\n",
       "<style scoped>\n",
       "    .dataframe tbody tr th:only-of-type {\n",
       "        vertical-align: middle;\n",
       "    }\n",
       "\n",
       "    .dataframe tbody tr th {\n",
       "        vertical-align: top;\n",
       "    }\n",
       "\n",
       "    .dataframe thead th {\n",
       "        text-align: right;\n",
       "    }\n",
       "</style>\n",
       "<table border=\"1\" class=\"dataframe\">\n",
       "  <thead>\n",
       "    <tr style=\"text-align: right;\">\n",
       "      <th></th>\n",
       "      <th>pickup_datetime</th>\n",
       "      <th>fare_amount</th>\n",
       "      <th>fare_class</th>\n",
       "      <th>pickup_longitude</th>\n",
       "      <th>pickup_latitude</th>\n",
       "      <th>dropoff_latitude</th>\n",
       "      <th>dropoff_longitude</th>\n",
       "      <th>passenger_count</th>\n",
       "      <th>dist_km</th>\n",
       "      <th>EDTdate</th>\n",
       "      <th>Hour</th>\n",
       "      <th>AMorPM</th>\n",
       "    </tr>\n",
       "  </thead>\n",
       "  <tbody>\n",
       "    <tr>\n",
       "      <th>0</th>\n",
       "      <td>2015-01-01 20:20:57</td>\n",
       "      <td>13.5</td>\n",
       "      <td>1</td>\n",
       "      <td>-8.232723e+06</td>\n",
       "      <td>4.979400e+06</td>\n",
       "      <td>4.973928e+06</td>\n",
       "      <td>-8.235438e+06</td>\n",
       "      <td>1</td>\n",
       "      <td>17146.288437</td>\n",
       "      <td>2015-01-01 20:20:57-05:00</td>\n",
       "      <td>20</td>\n",
       "      <td>pm</td>\n",
       "    </tr>\n",
       "    <tr>\n",
       "      <th>1</th>\n",
       "      <td>2015-01-15 12:35:56</td>\n",
       "      <td>12.0</td>\n",
       "      <td>1</td>\n",
       "      <td>-8.233768e+06</td>\n",
       "      <td>4.979199e+06</td>\n",
       "      <td>4.974675e+06</td>\n",
       "      <td>-8.236276e+06</td>\n",
       "      <td>1</td>\n",
       "      <td>14535.339756</td>\n",
       "      <td>2015-01-15 12:35:56-05:00</td>\n",
       "      <td>12</td>\n",
       "      <td>pm</td>\n",
       "    </tr>\n",
       "    <tr>\n",
       "      <th>2</th>\n",
       "      <td>2015-01-02 22:02:55</td>\n",
       "      <td>5.7</td>\n",
       "      <td>0</td>\n",
       "      <td>-8.236912e+06</td>\n",
       "      <td>4.972484e+06</td>\n",
       "      <td>4.972018e+06</td>\n",
       "      <td>-8.235815e+06</td>\n",
       "      <td>1</td>\n",
       "      <td>2621.057632</td>\n",
       "      <td>2015-01-02 22:02:55-05:00</td>\n",
       "      <td>22</td>\n",
       "      <td>pm</td>\n",
       "    </tr>\n",
       "    <tr>\n",
       "      <th>3</th>\n",
       "      <td>2015-01-19 09:47:07</td>\n",
       "      <td>5.0</td>\n",
       "      <td>0</td>\n",
       "      <td>-8.232874e+06</td>\n",
       "      <td>4.979104e+06</td>\n",
       "      <td>4.979778e+06</td>\n",
       "      <td>-8.231489e+06</td>\n",
       "      <td>2</td>\n",
       "      <td>6122.656650</td>\n",
       "      <td>2015-01-19 09:47:07-05:00</td>\n",
       "      <td>9</td>\n",
       "      <td>am</td>\n",
       "    </tr>\n",
       "    <tr>\n",
       "      <th>4</th>\n",
       "      <td>2015-01-09 17:32:26</td>\n",
       "      <td>14.0</td>\n",
       "      <td>1</td>\n",
       "      <td>-8.236896e+06</td>\n",
       "      <td>4.976339e+06</td>\n",
       "      <td>4.972574e+06</td>\n",
       "      <td>-8.235296e+06</td>\n",
       "      <td>5</td>\n",
       "      <td>16532.803377</td>\n",
       "      <td>2015-01-09 17:32:26-05:00</td>\n",
       "      <td>17</td>\n",
       "      <td>pm</td>\n",
       "    </tr>\n",
       "  </tbody>\n",
       "</table>\n",
       "</div>"
      ],
      "text/plain": [
       "      pickup_datetime  fare_amount fare_class  pickup_longitude  \\\n",
       "0 2015-01-01 20:20:57         13.5          1     -8.232723e+06   \n",
       "1 2015-01-15 12:35:56         12.0          1     -8.233768e+06   \n",
       "2 2015-01-02 22:02:55          5.7          0     -8.236912e+06   \n",
       "3 2015-01-19 09:47:07          5.0          0     -8.232874e+06   \n",
       "4 2015-01-09 17:32:26         14.0          1     -8.236896e+06   \n",
       "\n",
       "   pickup_latitude  dropoff_latitude  dropoff_longitude  passenger_count  \\\n",
       "0     4.979400e+06      4.973928e+06      -8.235438e+06                1   \n",
       "1     4.979199e+06      4.974675e+06      -8.236276e+06                1   \n",
       "2     4.972484e+06      4.972018e+06      -8.235815e+06                1   \n",
       "3     4.979104e+06      4.979778e+06      -8.231489e+06                2   \n",
       "4     4.976339e+06      4.972574e+06      -8.235296e+06                5   \n",
       "\n",
       "        dist_km                   EDTdate  Hour AMorPM  \n",
       "0  17146.288437 2015-01-01 20:20:57-05:00    20     pm  \n",
       "1  14535.339756 2015-01-15 12:35:56-05:00    12     pm  \n",
       "2   2621.057632 2015-01-02 22:02:55-05:00    22     pm  \n",
       "3   6122.656650 2015-01-19 09:47:07-05:00     9     am  \n",
       "4  16532.803377 2015-01-09 17:32:26-05:00    17     pm  "
      ]
     },
     "execution_count": 29,
     "metadata": {},
     "output_type": "execute_result"
    }
   ],
   "source": [
    "df.head()"
   ]
  },
  {
   "cell_type": "code",
   "execution_count": 30,
   "id": "ded8ec59",
   "metadata": {},
   "outputs": [],
   "source": [
    "df['Weekday']=df['EDTdate'].dt.strftime(\"%a\")"
   ]
  },
  {
   "cell_type": "code",
   "execution_count": 31,
   "id": "1e429f63",
   "metadata": {},
   "outputs": [
    {
     "data": {
      "text/html": [
       "<div>\n",
       "<style scoped>\n",
       "    .dataframe tbody tr th:only-of-type {\n",
       "        vertical-align: middle;\n",
       "    }\n",
       "\n",
       "    .dataframe tbody tr th {\n",
       "        vertical-align: top;\n",
       "    }\n",
       "\n",
       "    .dataframe thead th {\n",
       "        text-align: right;\n",
       "    }\n",
       "</style>\n",
       "<table border=\"1\" class=\"dataframe\">\n",
       "  <thead>\n",
       "    <tr style=\"text-align: right;\">\n",
       "      <th></th>\n",
       "      <th>pickup_datetime</th>\n",
       "      <th>fare_amount</th>\n",
       "      <th>fare_class</th>\n",
       "      <th>pickup_longitude</th>\n",
       "      <th>pickup_latitude</th>\n",
       "      <th>dropoff_latitude</th>\n",
       "      <th>dropoff_longitude</th>\n",
       "      <th>passenger_count</th>\n",
       "      <th>dist_km</th>\n",
       "      <th>EDTdate</th>\n",
       "      <th>Hour</th>\n",
       "      <th>AMorPM</th>\n",
       "      <th>Weekday</th>\n",
       "    </tr>\n",
       "  </thead>\n",
       "  <tbody>\n",
       "    <tr>\n",
       "      <th>0</th>\n",
       "      <td>2015-01-01 20:20:57</td>\n",
       "      <td>13.5</td>\n",
       "      <td>1</td>\n",
       "      <td>-8.232723e+06</td>\n",
       "      <td>4.979400e+06</td>\n",
       "      <td>4.973928e+06</td>\n",
       "      <td>-8.235438e+06</td>\n",
       "      <td>1</td>\n",
       "      <td>17146.288437</td>\n",
       "      <td>2015-01-01 20:20:57-05:00</td>\n",
       "      <td>20</td>\n",
       "      <td>pm</td>\n",
       "      <td>Thu</td>\n",
       "    </tr>\n",
       "    <tr>\n",
       "      <th>1</th>\n",
       "      <td>2015-01-15 12:35:56</td>\n",
       "      <td>12.0</td>\n",
       "      <td>1</td>\n",
       "      <td>-8.233768e+06</td>\n",
       "      <td>4.979199e+06</td>\n",
       "      <td>4.974675e+06</td>\n",
       "      <td>-8.236276e+06</td>\n",
       "      <td>1</td>\n",
       "      <td>14535.339756</td>\n",
       "      <td>2015-01-15 12:35:56-05:00</td>\n",
       "      <td>12</td>\n",
       "      <td>pm</td>\n",
       "      <td>Thu</td>\n",
       "    </tr>\n",
       "    <tr>\n",
       "      <th>2</th>\n",
       "      <td>2015-01-02 22:02:55</td>\n",
       "      <td>5.7</td>\n",
       "      <td>0</td>\n",
       "      <td>-8.236912e+06</td>\n",
       "      <td>4.972484e+06</td>\n",
       "      <td>4.972018e+06</td>\n",
       "      <td>-8.235815e+06</td>\n",
       "      <td>1</td>\n",
       "      <td>2621.057632</td>\n",
       "      <td>2015-01-02 22:02:55-05:00</td>\n",
       "      <td>22</td>\n",
       "      <td>pm</td>\n",
       "      <td>Fri</td>\n",
       "    </tr>\n",
       "    <tr>\n",
       "      <th>3</th>\n",
       "      <td>2015-01-19 09:47:07</td>\n",
       "      <td>5.0</td>\n",
       "      <td>0</td>\n",
       "      <td>-8.232874e+06</td>\n",
       "      <td>4.979104e+06</td>\n",
       "      <td>4.979778e+06</td>\n",
       "      <td>-8.231489e+06</td>\n",
       "      <td>2</td>\n",
       "      <td>6122.656650</td>\n",
       "      <td>2015-01-19 09:47:07-05:00</td>\n",
       "      <td>9</td>\n",
       "      <td>am</td>\n",
       "      <td>Mon</td>\n",
       "    </tr>\n",
       "    <tr>\n",
       "      <th>4</th>\n",
       "      <td>2015-01-09 17:32:26</td>\n",
       "      <td>14.0</td>\n",
       "      <td>1</td>\n",
       "      <td>-8.236896e+06</td>\n",
       "      <td>4.976339e+06</td>\n",
       "      <td>4.972574e+06</td>\n",
       "      <td>-8.235296e+06</td>\n",
       "      <td>5</td>\n",
       "      <td>16532.803377</td>\n",
       "      <td>2015-01-09 17:32:26-05:00</td>\n",
       "      <td>17</td>\n",
       "      <td>pm</td>\n",
       "      <td>Fri</td>\n",
       "    </tr>\n",
       "  </tbody>\n",
       "</table>\n",
       "</div>"
      ],
      "text/plain": [
       "      pickup_datetime  fare_amount fare_class  pickup_longitude  \\\n",
       "0 2015-01-01 20:20:57         13.5          1     -8.232723e+06   \n",
       "1 2015-01-15 12:35:56         12.0          1     -8.233768e+06   \n",
       "2 2015-01-02 22:02:55          5.7          0     -8.236912e+06   \n",
       "3 2015-01-19 09:47:07          5.0          0     -8.232874e+06   \n",
       "4 2015-01-09 17:32:26         14.0          1     -8.236896e+06   \n",
       "\n",
       "   pickup_latitude  dropoff_latitude  dropoff_longitude  passenger_count  \\\n",
       "0     4.979400e+06      4.973928e+06      -8.235438e+06                1   \n",
       "1     4.979199e+06      4.974675e+06      -8.236276e+06                1   \n",
       "2     4.972484e+06      4.972018e+06      -8.235815e+06                1   \n",
       "3     4.979104e+06      4.979778e+06      -8.231489e+06                2   \n",
       "4     4.976339e+06      4.972574e+06      -8.235296e+06                5   \n",
       "\n",
       "        dist_km                   EDTdate  Hour AMorPM Weekday  \n",
       "0  17146.288437 2015-01-01 20:20:57-05:00    20     pm     Thu  \n",
       "1  14535.339756 2015-01-15 12:35:56-05:00    12     pm     Thu  \n",
       "2   2621.057632 2015-01-02 22:02:55-05:00    22     pm     Fri  \n",
       "3   6122.656650 2015-01-19 09:47:07-05:00     9     am     Mon  \n",
       "4  16532.803377 2015-01-09 17:32:26-05:00    17     pm     Fri  "
      ]
     },
     "execution_count": 31,
     "metadata": {},
     "output_type": "execute_result"
    }
   ],
   "source": [
    "df.head()"
   ]
  },
  {
   "cell_type": "code",
   "execution_count": 32,
   "id": "62fd3b9b",
   "metadata": {},
   "outputs": [],
   "source": [
    "cat_cols=['Hour', 'AMorPM', 'Weekday']\n",
    "cont_cols=['pickup_longitude',\n",
    "       'pickup_latitude', 'dropoff_latitude', 'dropoff_longitude',\n",
    "       'passenger_count', 'dist_km', 'EDTdate']"
   ]
  },
  {
   "cell_type": "code",
   "execution_count": 33,
   "id": "c5d21393",
   "metadata": {},
   "outputs": [],
   "source": [
    "y_col=['fare_amount']"
   ]
  },
  {
   "cell_type": "code",
   "execution_count": 34,
   "id": "805699be",
   "metadata": {},
   "outputs": [
    {
     "data": {
      "text/plain": [
       "pickup_datetime                        datetime64[ns]\n",
       "fare_amount                                   float64\n",
       "fare_class                                     object\n",
       "pickup_longitude                              float64\n",
       "pickup_latitude                               float64\n",
       "dropoff_latitude                              float64\n",
       "dropoff_longitude                             float64\n",
       "passenger_count                                 int64\n",
       "dist_km                                       float64\n",
       "EDTdate              datetime64[ns, America/New_York]\n",
       "Hour                                            int32\n",
       "AMorPM                                         object\n",
       "Weekday                                        object\n",
       "dtype: object"
      ]
     },
     "execution_count": 34,
     "metadata": {},
     "output_type": "execute_result"
    }
   ],
   "source": [
    "df.dtypes"
   ]
  },
  {
   "cell_type": "code",
   "execution_count": 35,
   "id": "54a87ca6",
   "metadata": {},
   "outputs": [],
   "source": [
    "for cat in cat_cols:\n",
    "    df[cat]=df[cat].astype('category')"
   ]
  },
  {
   "cell_type": "code",
   "execution_count": 36,
   "id": "cf378da2",
   "metadata": {},
   "outputs": [
    {
     "data": {
      "text/plain": [
       "pickup_datetime                        datetime64[ns]\n",
       "fare_amount                                   float64\n",
       "fare_class                                     object\n",
       "pickup_longitude                              float64\n",
       "pickup_latitude                               float64\n",
       "dropoff_latitude                              float64\n",
       "dropoff_longitude                             float64\n",
       "passenger_count                                 int64\n",
       "dist_km                                       float64\n",
       "EDTdate              datetime64[ns, America/New_York]\n",
       "Hour                                         category\n",
       "AMorPM                                       category\n",
       "Weekday                                      category\n",
       "dtype: object"
      ]
     },
     "execution_count": 36,
     "metadata": {},
     "output_type": "execute_result"
    }
   ],
   "source": [
    "df.dtypes"
   ]
  },
  {
   "cell_type": "code",
   "execution_count": 37,
   "id": "2c4dbe31",
   "metadata": {},
   "outputs": [
    {
     "data": {
      "text/plain": [
       "0    20\n",
       "1    12\n",
       "2    22\n",
       "3     9\n",
       "4    17\n",
       "Name: Hour, dtype: category\n",
       "Categories (24, int32): [0, 1, 2, 3, ..., 20, 21, 22, 23]"
      ]
     },
     "execution_count": 37,
     "metadata": {},
     "output_type": "execute_result"
    }
   ],
   "source": [
    "df['Hour'].head()"
   ]
  },
  {
   "cell_type": "code",
   "execution_count": 38,
   "id": "ee42e38f",
   "metadata": {},
   "outputs": [
    {
     "data": {
      "text/plain": [
       "0    pm\n",
       "1    pm\n",
       "2    pm\n",
       "3    am\n",
       "4    pm\n",
       "Name: AMorPM, dtype: category\n",
       "Categories (2, object): ['am', 'pm']"
      ]
     },
     "execution_count": 38,
     "metadata": {},
     "output_type": "execute_result"
    }
   ],
   "source": [
    "df['AMorPM'].head()"
   ]
  },
  {
   "cell_type": "code",
   "execution_count": 39,
   "id": "8c8941b2",
   "metadata": {},
   "outputs": [
    {
     "data": {
      "text/plain": [
       "0    Thu\n",
       "1    Thu\n",
       "2    Fri\n",
       "3    Mon\n",
       "4    Fri\n",
       "Name: Weekday, dtype: category\n",
       "Categories (7, object): ['Fri', 'Mon', 'Sat', 'Sun', 'Thu', 'Tue', 'Wed']"
      ]
     },
     "execution_count": 39,
     "metadata": {},
     "output_type": "execute_result"
    }
   ],
   "source": [
    "df['Weekday'].head()"
   ]
  },
  {
   "cell_type": "code",
   "execution_count": 40,
   "id": "c0900da0",
   "metadata": {},
   "outputs": [
    {
     "data": {
      "text/plain": [
       "0        1\n",
       "1        1\n",
       "2        1\n",
       "3        0\n",
       "4        1\n",
       "        ..\n",
       "49995    0\n",
       "49996    0\n",
       "49997    1\n",
       "49998    0\n",
       "49999    0\n",
       "Length: 50000, dtype: int8"
      ]
     },
     "execution_count": 40,
     "metadata": {},
     "output_type": "execute_result"
    }
   ],
   "source": [
    "df['AMorPM'].cat.codes"
   ]
  },
  {
   "cell_type": "code",
   "execution_count": 41,
   "id": "aa266c88",
   "metadata": {},
   "outputs": [
    {
     "data": {
      "text/plain": [
       "0        4\n",
       "1        4\n",
       "2        0\n",
       "3        1\n",
       "4        0\n",
       "        ..\n",
       "49995    3\n",
       "49996    3\n",
       "49997    1\n",
       "49998    6\n",
       "49999    2\n",
       "Length: 50000, dtype: int8"
      ]
     },
     "execution_count": 41,
     "metadata": {},
     "output_type": "execute_result"
    }
   ],
   "source": [
    "df['Weekday'].cat.codes"
   ]
  },
  {
   "cell_type": "code",
   "execution_count": 42,
   "id": "bd3d5109",
   "metadata": {},
   "outputs": [],
   "source": [
    "hr=df['Hour'].cat.codes.values"
   ]
  },
  {
   "cell_type": "code",
   "execution_count": 43,
   "id": "636e282f",
   "metadata": {},
   "outputs": [],
   "source": [
    "ampm=df['AMorPM'].cat.codes.values"
   ]
  },
  {
   "cell_type": "code",
   "execution_count": 44,
   "id": "1e7218e1",
   "metadata": {},
   "outputs": [],
   "source": [
    "wkdy=df['Weekday'].cat.codes.values"
   ]
  },
  {
   "cell_type": "code",
   "execution_count": 45,
   "id": "d54ccdd8",
   "metadata": {},
   "outputs": [
    {
     "data": {
      "text/plain": [
       "array([20, 12, 22, ..., 20,  8,  9], dtype=int8)"
      ]
     },
     "execution_count": 45,
     "metadata": {},
     "output_type": "execute_result"
    }
   ],
   "source": [
    "hr"
   ]
  },
  {
   "cell_type": "code",
   "execution_count": 46,
   "id": "80460063",
   "metadata": {},
   "outputs": [],
   "source": [
    "cats=np.stack([hr,ampm,wkdy], axis=1)"
   ]
  },
  {
   "cell_type": "code",
   "execution_count": 47,
   "id": "f57bf3b3",
   "metadata": {},
   "outputs": [
    {
     "data": {
      "text/plain": [
       "array([[20,  1,  4],\n",
       "       [12,  1,  4],\n",
       "       [22,  1,  0],\n",
       "       ...,\n",
       "       [20,  1,  1],\n",
       "       [ 8,  0,  6],\n",
       "       [ 9,  0,  2]], dtype=int8)"
      ]
     },
     "execution_count": 47,
     "metadata": {},
     "output_type": "execute_result"
    }
   ],
   "source": [
    "cats"
   ]
  },
  {
   "cell_type": "code",
   "execution_count": 48,
   "id": "a9bd81e3",
   "metadata": {},
   "outputs": [],
   "source": [
    "# cats=np.stack([df[col].cat.codes.values for col in cat_cols], 1)"
   ]
  },
  {
   "cell_type": "code",
   "execution_count": 51,
   "id": "be41e38b",
   "metadata": {},
   "outputs": [
    {
     "name": "stderr",
     "output_type": "stream",
     "text": [
      "C:\\Users\\DELL\\AppData\\Local\\Temp\\ipykernel_19108\\2741758102.py:1: UserWarning: To copy construct from a tensor, it is recommended to use sourceTensor.clone().detach() or sourceTensor.clone().detach().requires_grad_(True), rather than torch.tensor(sourceTensor).\n",
      "  cats=torch.tensor(cats, dtype=torch.int64)\n"
     ]
    }
   ],
   "source": [
    "cats=torch.tensor(cats, dtype=torch.int64)"
   ]
  },
  {
   "cell_type": "code",
   "execution_count": 54,
   "id": "6b48e601",
   "metadata": {},
   "outputs": [],
   "source": [
    "conts = np.empty((len(df), len(cont_cols)), dtype=object)\n",
    "for i, col in enumerate(cont_cols):\n",
    "    conts[:, i] = df[col].values\n"
   ]
  },
  {
   "cell_type": "code",
   "execution_count": 55,
   "id": "98734829",
   "metadata": {},
   "outputs": [
    {
     "data": {
      "text/plain": [
       "array([[-8232723.17128, 4979400.40941, 4973927.72595, ..., 1,\n",
       "        17146.288437009887, 1420161657000000000],\n",
       "       [-8233767.81067, 4979199.09578, 4974675.40007, ..., 1,\n",
       "        14535.339756180507, 1421343356000000000],\n",
       "       [-8236911.92043, 4972483.54292, 4972017.88562, ..., 1,\n",
       "        2621.0576324090443, 1420254175000000000],\n",
       "       ...,\n",
       "       [-8234880.39408, 4976405.246280001, 4979213.67546, ..., 1,\n",
       "        8286.06016119512, 1420509168000000000],\n",
       "       [-8233377.981819999, 4976405.80688, 4976584.63866, ..., 2,\n",
       "        2549.3841193080757, 1421241363000000000],\n",
       "       [-8235019.679330001, 4974012.35486, 4974369.37361, ..., 1,\n",
       "        341.10929298905467, 1421503669000000000]], dtype=object)"
      ]
     },
     "execution_count": 55,
     "metadata": {},
     "output_type": "execute_result"
    }
   ],
   "source": [
    "conts"
   ]
  },
  {
   "cell_type": "code",
   "execution_count": 56,
   "id": "9bf874b9",
   "metadata": {},
   "outputs": [
    {
     "ename": "TypeError",
     "evalue": "can't convert np.ndarray of type numpy.object_. The only supported types are: float64, float32, float16, complex64, complex128, int64, int32, int16, int8, uint8, and bool.",
     "output_type": "error",
     "traceback": [
      "\u001b[1;31m---------------------------------------------------------------------------\u001b[0m",
      "\u001b[1;31mTypeError\u001b[0m                                 Traceback (most recent call last)",
      "Cell \u001b[1;32mIn[56], line 1\u001b[0m\n\u001b[1;32m----> 1\u001b[0m conts\u001b[38;5;241m=\u001b[39mtorch\u001b[38;5;241m.\u001b[39mtensor(conts, dtype\u001b[38;5;241m=\u001b[39mtorch\u001b[38;5;241m.\u001b[39mfloat)\n",
      "\u001b[1;31mTypeError\u001b[0m: can't convert np.ndarray of type numpy.object_. The only supported types are: float64, float32, float16, complex64, complex128, int64, int32, int16, int8, uint8, and bool."
     ]
    }
   ],
   "source": [
    "conts=torch.tensor(conts, dtype=torch.float)"
   ]
  },
  {
   "cell_type": "code",
   "execution_count": 58,
   "id": "93e78865",
   "metadata": {},
   "outputs": [],
   "source": [
    "y=torch.tensor(df[y_col].values, dtype=torch.float).reshape(-1,1)"
   ]
  },
  {
   "cell_type": "code",
   "execution_count": 60,
   "id": "2cbe9527",
   "metadata": {},
   "outputs": [
    {
     "data": {
      "text/plain": [
       "torch.Size([50000, 3])"
      ]
     },
     "execution_count": 60,
     "metadata": {},
     "output_type": "execute_result"
    }
   ],
   "source": [
    "cats.shape\n"
   ]
  },
  {
   "cell_type": "code",
   "execution_count": 61,
   "id": "312e1108",
   "metadata": {},
   "outputs": [
    {
     "data": {
      "text/plain": [
       "(50000, 7)"
      ]
     },
     "execution_count": 61,
     "metadata": {},
     "output_type": "execute_result"
    }
   ],
   "source": [
    "conts.shape"
   ]
  },
  {
   "cell_type": "code",
   "execution_count": 62,
   "id": "ae3fb225",
   "metadata": {},
   "outputs": [
    {
     "data": {
      "text/plain": [
       "torch.Size([50000, 1])"
      ]
     },
     "execution_count": 62,
     "metadata": {},
     "output_type": "execute_result"
    }
   ],
   "source": [
    "y.shape"
   ]
  },
  {
   "cell_type": "code",
   "execution_count": 63,
   "id": "b66a7b5a",
   "metadata": {},
   "outputs": [],
   "source": [
    "cat_szs=[len(df[col].cat.categories) for col in cat_cols]"
   ]
  },
  {
   "cell_type": "code",
   "execution_count": 64,
   "id": "a412cd1b",
   "metadata": {},
   "outputs": [
    {
     "data": {
      "text/plain": [
       "[24, 2, 7]"
      ]
     },
     "execution_count": 64,
     "metadata": {},
     "output_type": "execute_result"
    }
   ],
   "source": [
    "cat_szs"
   ]
  },
  {
   "cell_type": "code",
   "execution_count": 65,
   "id": "7964d975",
   "metadata": {},
   "outputs": [],
   "source": [
    "emb_szs=[(size, min(50,(size+1)//2))for size in cat_szs]"
   ]
  },
  {
   "cell_type": "code",
   "execution_count": 66,
   "id": "ae080def",
   "metadata": {},
   "outputs": [
    {
     "data": {
      "text/plain": [
       "[(24, 12), (2, 1), (7, 4)]"
      ]
     },
     "execution_count": 66,
     "metadata": {},
     "output_type": "execute_result"
    }
   ],
   "source": [
    "emb_szs"
   ]
  },
  {
   "cell_type": "code",
   "execution_count": 67,
   "id": "d4806e64",
   "metadata": {},
   "outputs": [
    {
     "data": {
      "text/plain": [
       "tensor([[20,  1,  4],\n",
       "        [12,  1,  4],\n",
       "        [22,  1,  0],\n",
       "        ...,\n",
       "        [20,  1,  1],\n",
       "        [ 8,  0,  6],\n",
       "        [ 9,  0,  2]])"
      ]
     },
     "execution_count": 67,
     "metadata": {},
     "output_type": "execute_result"
    }
   ],
   "source": [
    "cats"
   ]
  },
  {
   "cell_type": "code",
   "execution_count": 68,
   "id": "55dcafcf",
   "metadata": {},
   "outputs": [],
   "source": [
    "catz=cats[:4]"
   ]
  },
  {
   "cell_type": "code",
   "execution_count": 69,
   "id": "419f9c5c",
   "metadata": {},
   "outputs": [
    {
     "data": {
      "text/plain": [
       "tensor([[20,  1,  4],\n",
       "        [12,  1,  4],\n",
       "        [22,  1,  0],\n",
       "        [ 9,  0,  1]])"
      ]
     },
     "execution_count": 69,
     "metadata": {},
     "output_type": "execute_result"
    }
   ],
   "source": [
    "catz"
   ]
  },
  {
   "cell_type": "code",
   "execution_count": 72,
   "id": "29920451",
   "metadata": {},
   "outputs": [],
   "source": [
    "selfembeds=nn.ModuleList([nn.Embedding(ni,nf) for ni,nf in emb_szs])"
   ]
  },
  {
   "cell_type": "code",
   "execution_count": 73,
   "id": "f40c3d3d",
   "metadata": {},
   "outputs": [
    {
     "data": {
      "text/plain": [
       "ModuleList(\n",
       "  (0): Embedding(24, 12)\n",
       "  (1): Embedding(2, 1)\n",
       "  (2): Embedding(7, 4)\n",
       ")"
      ]
     },
     "execution_count": 73,
     "metadata": {},
     "output_type": "execute_result"
    }
   ],
   "source": [
    "selfembeds"
   ]
  },
  {
   "cell_type": "code",
   "execution_count": 74,
   "id": "eac25351",
   "metadata": {},
   "outputs": [],
   "source": [
    "embeddingz=[]\n",
    "for i,e in enumerate(selfembeds):\n",
    "    embeddingz.append(e(catz[:,i]))"
   ]
  },
  {
   "cell_type": "code",
   "execution_count": 75,
   "id": "83df189c",
   "metadata": {},
   "outputs": [
    {
     "data": {
      "text/plain": [
       "[tensor([[ 0.8044, -0.1459, -0.2535,  0.7529,  1.1768, -0.0917,  1.0710,  0.9847,\n",
       "          -0.4119,  1.5192,  2.2041,  0.7134],\n",
       "         [ 0.4395,  1.1277,  0.3029,  0.0318, -0.1959,  1.0521,  2.2684, -0.5855,\n",
       "          -0.5181, -1.1269, -1.1959, -1.3175],\n",
       "         [-0.1415,  0.2468,  0.7479, -0.8141, -1.0952,  2.1818, -0.2108,  1.0112,\n",
       "           0.4466,  1.1434,  0.1102, -0.1492],\n",
       "         [-1.3130, -0.0895, -0.5708,  1.4675,  1.7857,  1.0065,  0.2829, -0.0259,\n",
       "          -0.6325,  0.2383, -1.4672,  0.6945]], grad_fn=<EmbeddingBackward0>),\n",
       " tensor([[-0.3910],\n",
       "         [-0.3910],\n",
       "         [-0.3910],\n",
       "         [ 1.0711]], grad_fn=<EmbeddingBackward0>),\n",
       " tensor([[ 0.3780, -2.1146, -0.6134, -1.8214],\n",
       "         [ 0.3780, -2.1146, -0.6134, -1.8214],\n",
       "         [-0.6709,  0.4657,  0.2419,  2.9577],\n",
       "         [-0.5093, -0.7493, -0.0062,  0.6616]], grad_fn=<EmbeddingBackward0>)]"
      ]
     },
     "execution_count": 75,
     "metadata": {},
     "output_type": "execute_result"
    }
   ],
   "source": [
    "embeddingz"
   ]
  },
  {
   "cell_type": "code",
   "execution_count": 76,
   "id": "bf537727",
   "metadata": {},
   "outputs": [],
   "source": [
    "z=torch.cat(embeddingz,1)"
   ]
  },
  {
   "cell_type": "code",
   "execution_count": 77,
   "id": "2bc0c8be",
   "metadata": {},
   "outputs": [
    {
     "data": {
      "text/plain": [
       "tensor([[ 0.8044, -0.1459, -0.2535,  0.7529,  1.1768, -0.0917,  1.0710,  0.9847,\n",
       "         -0.4119,  1.5192,  2.2041,  0.7134, -0.3910,  0.3780, -2.1146, -0.6134,\n",
       "         -1.8214],\n",
       "        [ 0.4395,  1.1277,  0.3029,  0.0318, -0.1959,  1.0521,  2.2684, -0.5855,\n",
       "         -0.5181, -1.1269, -1.1959, -1.3175, -0.3910,  0.3780, -2.1146, -0.6134,\n",
       "         -1.8214],\n",
       "        [-0.1415,  0.2468,  0.7479, -0.8141, -1.0952,  2.1818, -0.2108,  1.0112,\n",
       "          0.4466,  1.1434,  0.1102, -0.1492, -0.3910, -0.6709,  0.4657,  0.2419,\n",
       "          2.9577],\n",
       "        [-1.3130, -0.0895, -0.5708,  1.4675,  1.7857,  1.0065,  0.2829, -0.0259,\n",
       "         -0.6325,  0.2383, -1.4672,  0.6945,  1.0711, -0.5093, -0.7493, -0.0062,\n",
       "          0.6616]], grad_fn=<CatBackward0>)"
      ]
     },
     "execution_count": 77,
     "metadata": {},
     "output_type": "execute_result"
    }
   ],
   "source": [
    "z"
   ]
  },
  {
   "cell_type": "code",
   "execution_count": 78,
   "id": "265c49ba",
   "metadata": {},
   "outputs": [],
   "source": [
    "selfembedrop=nn.Dropout(0.4)"
   ]
  },
  {
   "cell_type": "code",
   "execution_count": 79,
   "id": "635a0e1e",
   "metadata": {},
   "outputs": [],
   "source": [
    "z=selfembedrop(z)"
   ]
  },
  {
   "cell_type": "code",
   "execution_count": 80,
   "id": "4091c213",
   "metadata": {},
   "outputs": [
    {
     "data": {
      "text/plain": [
       "tensor([[ 1.3407, -0.2431, -0.4225,  1.2548,  0.0000, -0.0000,  1.7850,  1.6412,\n",
       "         -0.0000,  2.5320,  0.0000,  1.1891, -0.6517,  0.6300, -0.0000, -1.0224,\n",
       "         -3.0357],\n",
       "        [ 0.7326,  1.8795,  0.0000,  0.0531, -0.3266,  1.7535,  3.7806, -0.0000,\n",
       "         -0.0000, -0.0000, -1.9932, -2.1958, -0.6517,  0.6300, -0.0000, -1.0224,\n",
       "         -0.0000],\n",
       "        [-0.2358,  0.0000,  1.2464, -0.0000, -1.8253,  0.0000, -0.3514,  0.0000,\n",
       "          0.7444,  1.9056,  0.0000, -0.0000, -0.6517, -0.0000,  0.7761,  0.0000,\n",
       "          4.9295],\n",
       "        [-2.1884, -0.1492, -0.9514,  2.4458,  0.0000,  1.6774,  0.4714, -0.0432,\n",
       "         -0.0000,  0.3971, -0.0000,  0.0000,  1.7851, -0.8489, -1.2488, -0.0000,\n",
       "          0.0000]], grad_fn=<MulBackward0>)"
      ]
     },
     "execution_count": 80,
     "metadata": {},
     "output_type": "execute_result"
    }
   ],
   "source": [
    "z"
   ]
  },
  {
   "cell_type": "code",
   "execution_count": null,
   "id": "c32367c6",
   "metadata": {},
   "outputs": [],
   "source": [
    "class TabularModel(nn.Module):\n",
    "    def __init__(self, emb_szs, n_cont, out_sz, ):\n",
    "        pass\n",
    "    def __forward__(self):\n",
    "        pass\n",
    "    "
   ]
  }
 ],
 "metadata": {
  "kernelspec": {
   "display_name": "Python 3 (ipykernel)",
   "language": "python",
   "name": "python3"
  },
  "language_info": {
   "codemirror_mode": {
    "name": "ipython",
    "version": 3
   },
   "file_extension": ".py",
   "mimetype": "text/x-python",
   "name": "python",
   "nbconvert_exporter": "python",
   "pygments_lexer": "ipython3",
   "version": "3.11.5"
  }
 },
 "nbformat": 4,
 "nbformat_minor": 5
}
