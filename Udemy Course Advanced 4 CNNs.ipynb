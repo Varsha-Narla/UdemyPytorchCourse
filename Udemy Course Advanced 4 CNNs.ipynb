{
 "cells": [
  {
   "cell_type": "code",
   "execution_count": 1,
   "id": "c240e2e7",
   "metadata": {},
   "outputs": [],
   "source": [
    "import torch\n",
    "import torch.nn as nn\n",
    "import torch.nn.functional as F\n",
    "from torch.utils.data import DataLoader \n",
    "from torchvision import datasets, transforms \n",
    "from torchvision.utils import make_grid \n",
    "\n",
    "\n",
    "import numpy as np\n",
    "import pandas as pd \n",
    "from sklearn.metrics import confusion_matrix \n"
   ]
  },
  {
   "cell_type": "code",
   "execution_count": 2,
   "id": "795e2401",
   "metadata": {},
   "outputs": [],
   "source": [
    "transform=transforms.ToTensor()"
   ]
  },
  {
   "cell_type": "code",
   "execution_count": 3,
   "id": "cfab98e9",
   "metadata": {},
   "outputs": [],
   "source": [
    "train_data=datasets.MNIST(root='C:\\\\Users\\\\DELL\\\\OneDrive\\\\Desktop', train=True, download=False, transform=transform)"
   ]
  },
  {
   "cell_type": "code",
   "execution_count": 4,
   "id": "dbae65bd",
   "metadata": {},
   "outputs": [],
   "source": [
    "test_data=datasets.MNIST(root='C:\\\\Users\\\\DELL\\\\OneDrive\\\\Desktop', train=False, download=False, transform=transform)"
   ]
  },
  {
   "cell_type": "code",
   "execution_count": 5,
   "id": "e201d964",
   "metadata": {},
   "outputs": [
    {
     "data": {
      "text/plain": [
       "Dataset MNIST\n",
       "    Number of datapoints: 60000\n",
       "    Root location: C:\\Users\\DELL\\OneDrive\\Desktop\n",
       "    Split: Train\n",
       "    StandardTransform\n",
       "Transform: ToTensor()"
      ]
     },
     "execution_count": 5,
     "metadata": {},
     "output_type": "execute_result"
    }
   ],
   "source": [
    "train_data"
   ]
  },
  {
   "cell_type": "code",
   "execution_count": 6,
   "id": "fdbaef01",
   "metadata": {},
   "outputs": [
    {
     "data": {
      "text/plain": [
       "Dataset MNIST\n",
       "    Number of datapoints: 10000\n",
       "    Root location: C:\\Users\\DELL\\OneDrive\\Desktop\n",
       "    Split: Test\n",
       "    StandardTransform\n",
       "Transform: ToTensor()"
      ]
     },
     "execution_count": 6,
     "metadata": {},
     "output_type": "execute_result"
    }
   ],
   "source": [
    "test_data"
   ]
  },
  {
   "cell_type": "code",
   "execution_count": 7,
   "id": "586d54aa",
   "metadata": {},
   "outputs": [],
   "source": [
    "train_loader=DataLoader(train_data, batch_size=10, shuffle=True)\n",
    "test_loader=DataLoader(test_data, batch_size=10, shuffle=False)"
   ]
  },
  {
   "cell_type": "code",
   "execution_count": 8,
   "id": "75f3184e",
   "metadata": {},
   "outputs": [],
   "source": [
    "conv1=nn.Conv2d(1,6,3,1) #1 input channel (because gray scale images), 6 output channels for feature extractions (number of filters), each 3*3 size, stride to be taken as 1\n",
    "conv2=nn.Conv2d(6,16,3,1) #6 input channels (because output of above is 6), 16 output filters, 3*3 size of each filter, stride to be 1"
   ]
  },
  {
   "cell_type": "code",
   "execution_count": 9,
   "id": "dbb7f2bb",
   "metadata": {},
   "outputs": [],
   "source": [
    "for i, (X_train, y_train) in enumerate(train_data):\n",
    "    break"
   ]
  },
  {
   "cell_type": "code",
   "execution_count": 10,
   "id": "fe120f4f",
   "metadata": {},
   "outputs": [
    {
     "data": {
      "text/plain": [
       "torch.Size([1, 28, 28])"
      ]
     },
     "execution_count": 10,
     "metadata": {},
     "output_type": "execute_result"
    }
   ],
   "source": [
    "X_train.shape"
   ]
  },
  {
   "cell_type": "code",
   "execution_count": 11,
   "id": "0b0020d2",
   "metadata": {},
   "outputs": [],
   "source": [
    "x=X_train.view(1,1,28,28)"
   ]
  },
  {
   "cell_type": "code",
   "execution_count": 12,
   "id": "82502f25",
   "metadata": {},
   "outputs": [],
   "source": [
    "x=F.relu(conv1(x))"
   ]
  },
  {
   "cell_type": "code",
   "execution_count": 13,
   "id": "cff60a3c",
   "metadata": {},
   "outputs": [
    {
     "data": {
      "text/plain": [
       "torch.Size([1, 6, 26, 26])"
      ]
     },
     "execution_count": 13,
     "metadata": {},
     "output_type": "execute_result"
    }
   ],
   "source": [
    "x.shape"
   ]
  },
  {
   "cell_type": "code",
   "execution_count": 14,
   "id": "9b4ab9dc",
   "metadata": {},
   "outputs": [],
   "source": [
    "#in the above, we got 26*26 instead of original 28*28 because the filters reduced the image size. no need to add padding for \n",
    "#mnist dataset because the numbers are in the middle of each image"
   ]
  },
  {
   "cell_type": "code",
   "execution_count": 15,
   "id": "6ab6662a",
   "metadata": {},
   "outputs": [],
   "source": [
    "x=F.max_pool2d(x,2,2) #input, kernel size, stride "
   ]
  },
  {
   "cell_type": "code",
   "execution_count": 16,
   "id": "9f3bf863",
   "metadata": {},
   "outputs": [
    {
     "data": {
      "text/plain": [
       "torch.Size([1, 6, 13, 13])"
      ]
     },
     "execution_count": 16,
     "metadata": {},
     "output_type": "execute_result"
    }
   ],
   "source": [
    "x.shape"
   ]
  },
  {
   "cell_type": "code",
   "execution_count": 17,
   "id": "a2ee6938",
   "metadata": {},
   "outputs": [],
   "source": [
    "#its 13*13 now because we're pooling "
   ]
  },
  {
   "cell_type": "code",
   "execution_count": 18,
   "id": "45956327",
   "metadata": {},
   "outputs": [],
   "source": [
    "x=F.relu(conv2(x))"
   ]
  },
  {
   "cell_type": "code",
   "execution_count": 19,
   "id": "f28d12a6",
   "metadata": {},
   "outputs": [
    {
     "data": {
      "text/plain": [
       "torch.Size([1, 16, 11, 11])"
      ]
     },
     "execution_count": 19,
     "metadata": {},
     "output_type": "execute_result"
    }
   ],
   "source": [
    "x.shape"
   ]
  },
  {
   "cell_type": "code",
   "execution_count": 20,
   "id": "a842b379",
   "metadata": {},
   "outputs": [],
   "source": [
    "x=F.max_pool2d(x,2,2)"
   ]
  },
  {
   "cell_type": "code",
   "execution_count": 21,
   "id": "9e8b71fa",
   "metadata": {},
   "outputs": [
    {
     "data": {
      "text/plain": [
       "torch.Size([1, 16, 5, 5])"
      ]
     },
     "execution_count": 21,
     "metadata": {},
     "output_type": "execute_result"
    }
   ],
   "source": [
    "x.shape"
   ]
  },
  {
   "cell_type": "code",
   "execution_count": 22,
   "id": "59de67dd",
   "metadata": {},
   "outputs": [
    {
     "data": {
      "text/plain": [
       "5.5"
      ]
     },
     "execution_count": 22,
     "metadata": {},
     "output_type": "execute_result"
    }
   ],
   "source": [
    "(((28-2)/2)-2)/2"
   ]
  },
  {
   "cell_type": "code",
   "execution_count": 23,
   "id": "f603ede6",
   "metadata": {},
   "outputs": [
    {
     "data": {
      "text/plain": [
       "torch.Size([1, 400])"
      ]
     },
     "execution_count": 23,
     "metadata": {},
     "output_type": "execute_result"
    }
   ],
   "source": [
    "x.view(-1,16*5*5).shape"
   ]
  },
  {
   "cell_type": "code",
   "execution_count": 27,
   "id": "a97259e8",
   "metadata": {},
   "outputs": [],
   "source": [
    "class ConvolutionalNetwork(nn.Module):\n",
    "    def __init__(self):\n",
    "        super().__init__()\n",
    "        self.conv1=nn.Conv2d(1,6,3,1)\n",
    "        self.conv2=nn.Conv2d(6,16,3,1)\n",
    "        self.fc1=nn.Linear(5*5*16, 120)\n",
    "        self.fc2=nn.Linear(120,84)\n",
    "        self.fc3=nn.Linear(84,10) #84 and 120 are arbitary values \n",
    "        \n",
    "    def forward(self,X):\n",
    "        X=F.relu(self.conv1(X))\n",
    "        X=F.max_pool2d(X,2,2)\n",
    "        X=F.relu(self.conv2(X))\n",
    "        X=F.max_pool2d(X,2,2)\n",
    "        X=X.view(-1,16*5*5)\n",
    "        X=F.relu(self.fc1(X))\n",
    "        X=F.relu(self.fc2(X))\n",
    "        X=self.fc3(X)\n",
    "        return F.log_softmax(X, dim=1)"
   ]
  },
  {
   "cell_type": "code",
   "execution_count": 28,
   "id": "502a0baa",
   "metadata": {},
   "outputs": [],
   "source": [
    "torch.manual_seed(42)\n",
    "model=ConvolutionalNetwork()"
   ]
  },
  {
   "cell_type": "code",
   "execution_count": 29,
   "id": "a41a98cc",
   "metadata": {},
   "outputs": [
    {
     "data": {
      "text/plain": [
       "ConvolutionalNetwork(\n",
       "  (conv1): Conv2d(1, 6, kernel_size=(3, 3), stride=(1, 1))\n",
       "  (conv2): Conv2d(6, 16, kernel_size=(3, 3), stride=(1, 1))\n",
       "  (fc1): Linear(in_features=400, out_features=120, bias=True)\n",
       "  (fc2): Linear(in_features=120, out_features=84, bias=True)\n",
       "  (fc3): Linear(in_features=84, out_features=10, bias=True)\n",
       ")"
      ]
     },
     "execution_count": 29,
     "metadata": {},
     "output_type": "execute_result"
    }
   ],
   "source": [
    "model"
   ]
  },
  {
   "cell_type": "code",
   "execution_count": 30,
   "id": "4a08d385",
   "metadata": {},
   "outputs": [
    {
     "name": "stdout",
     "output_type": "stream",
     "text": [
      "54\n",
      "6\n",
      "864\n",
      "16\n",
      "48000\n",
      "120\n",
      "10080\n",
      "84\n",
      "840\n",
      "10\n"
     ]
    }
   ],
   "source": [
    "for param in model.parameters():\n",
    "    print(param.numel())"
   ]
  },
  {
   "cell_type": "code",
   "execution_count": 31,
   "id": "39ca2d4f",
   "metadata": {},
   "outputs": [],
   "source": [
    "criterion=nn.CrossEntropyLoss()"
   ]
  },
  {
   "cell_type": "code",
   "execution_count": 32,
   "id": "c5e9d391",
   "metadata": {},
   "outputs": [],
   "source": [
    "optimizer=torch.optim.Adam(model.parameters(), lr=0.001)"
   ]
  },
  {
   "cell_type": "code",
   "execution_count": 38,
   "id": "c5e7b4b4",
   "metadata": {},
   "outputs": [
    {
     "name": "stdout",
     "output_type": "stream",
     "text": [
      "Epoch 0 Batch: 600 loss: 0.005933754611760378\n",
      "Epoch 0 Batch: 1200 loss: 0.0010621579131111503\n",
      "Epoch 0 Batch: 1800 loss: 4.831186743103899e-05\n",
      "Epoch 0 Batch: 2400 loss: 0.00040188911953009665\n",
      "Epoch 0 Batch: 3000 loss: 0.10219243913888931\n",
      "Epoch 0 Batch: 3600 loss: 0.015040455386042595\n",
      "Epoch 0 Batch: 4200 loss: 0.0003014873946085572\n",
      "Epoch 0 Batch: 4800 loss: 0.04102698713541031\n",
      "Epoch 0 Batch: 5400 loss: 0.0026962088886648417\n",
      "Epoch 0 Batch: 6000 loss: 0.0009217123733833432\n"
     ]
    },
    {
     "ename": "TypeError",
     "evalue": "'float' object is not callable",
     "output_type": "error",
     "traceback": [
      "\u001b[1;31m---------------------------------------------------------------------------\u001b[0m",
      "\u001b[1;31mTypeError\u001b[0m                                 Traceback (most recent call last)",
      "Cell \u001b[1;32mIn[38], line 44\u001b[0m\n\u001b[0;32m     41\u001b[0m     test_correct\u001b[38;5;241m.\u001b[39mappend(test_corr)\n\u001b[0;32m     43\u001b[0m cur_time\u001b[38;5;241m=\u001b[39mtime\u001b[38;5;241m.\u001b[39mtime()\n\u001b[1;32m---> 44\u001b[0m total\u001b[38;5;241m=\u001b[39mcur_time\u001b[38;5;241m-\u001b[39mstart_time()\n\u001b[0;32m     45\u001b[0m \u001b[38;5;28mprint\u001b[39m(\u001b[38;5;124mf\u001b[39m\u001b[38;5;124m\"\u001b[39m\u001b[38;5;124mTraining took \u001b[39m\u001b[38;5;132;01m{\u001b[39;00mtotal\u001b[38;5;132;01m}\u001b[39;00m\u001b[38;5;124m time\u001b[39m\u001b[38;5;124m\"\u001b[39m)\n",
      "\u001b[1;31mTypeError\u001b[0m: 'float' object is not callable"
     ]
    }
   ],
   "source": [
    "import time\n",
    "start_time=time.time()\n",
    "\n",
    "epochs=1\n",
    "train_losses=[]\n",
    "test_losses=[]\n",
    "train_correct=[]\n",
    "test_correct=[]\n",
    "\n",
    "for i in range (epochs):\n",
    "    trn_corr=0\n",
    "    test_corr=0\n",
    "    for b,(X_train, y_train) in enumerate(train_loader):\n",
    "        b+=1\n",
    "        y_pred=model(X_train) #no need to flatten here like ann because cnn accepts 2d data \n",
    "        loss=criterion(y_pred, y_train)\n",
    "        \n",
    "        predicted=torch.max(y_pred.data,1)[1]\n",
    "        batch_corr=(predicted==y_train).sum()\n",
    "        trn_corr+=batch_corr\n",
    "        \n",
    "        optimizer.zero_grad()\n",
    "        loss.backward()\n",
    "        optimizer.step()\n",
    "        \n",
    "        if (b%600==0) :\n",
    "            print(f\"Epoch {i} Batch: {b} loss: {loss.item()}\")\n",
    "    train_losses.append(loss)\n",
    "    train_correct.append(trn_corr)\n",
    "    \n",
    "    with torch.no_grad():\n",
    "        for b,(X_test, y_test) in enumerate(test_loader):\n",
    "            y_val=model(X_test)\n",
    "            \n",
    "            predicted=torch.max(y_val.data,1)[1]\n",
    "            \n",
    "            test_corr+=(predicted==y_test).sum()\n",
    "            \n",
    "    loss=criterion(y_val, y_test)\n",
    "    test_losses.append(loss)\n",
    "    test_correct.append(test_corr)\n",
    "\n"
   ]
  },
  {
   "cell_type": "code",
   "execution_count": 41,
   "id": "9b36f42a",
   "metadata": {},
   "outputs": [
    {
     "name": "stdout",
     "output_type": "stream",
     "text": [
      "Training took 10.63441452185313 time\n"
     ]
    }
   ],
   "source": [
    "cur_time=time.time()\n",
    "total=cur_time-start_time\n",
    "print(f\"Training took {total/60} time\")"
   ]
  },
  {
   "cell_type": "code",
   "execution_count": 42,
   "id": "13a75045",
   "metadata": {},
   "outputs": [],
   "source": [
    "test_load_all=DataLoader(test_data, batch_size=10000, shuffle=False)\n"
   ]
  },
  {
   "cell_type": "code",
   "execution_count": 43,
   "id": "e3544fdb",
   "metadata": {},
   "outputs": [],
   "source": [
    "with torch.no_grad():\n",
    "    correct=0\n",
    "    for X_test, y_test in test_load_all:\n",
    "        y_val=model(X_test)\n",
    "        predicted=torch.max(y_val,1)[1]\n",
    "        correct+=(predicted==y_test).sum()"
   ]
  },
  {
   "cell_type": "code",
   "execution_count": 45,
   "id": "5f98131f",
   "metadata": {},
   "outputs": [
    {
     "data": {
      "text/plain": [
       "0.9876"
      ]
     },
     "execution_count": 45,
     "metadata": {},
     "output_type": "execute_result"
    }
   ],
   "source": [
    "correct.item()/len(test_data)"
   ]
  },
  {
   "cell_type": "code",
   "execution_count": 47,
   "id": "fe799304",
   "metadata": {},
   "outputs": [
    {
     "data": {
      "text/plain": [
       "tensor([[0.0000, 0.0000, 0.0000, 0.0000, 0.0000, 0.0000, 0.0000, 0.0000, 0.0000,\n",
       "         0.0000, 0.0000, 0.0000, 0.0000, 0.0000, 0.0000, 0.0000, 0.0000, 0.0000,\n",
       "         0.0000, 0.0000, 0.0000, 0.0000, 0.0000, 0.0000, 0.0000, 0.0000, 0.0000,\n",
       "         0.0000],\n",
       "        [0.0000, 0.0000, 0.0000, 0.0000, 0.0000, 0.0000, 0.0000, 0.0000, 0.0000,\n",
       "         0.0000, 0.0000, 0.0000, 0.0000, 0.0000, 0.0000, 0.0000, 0.0000, 0.0000,\n",
       "         0.0000, 0.0000, 0.0000, 0.0000, 0.0000, 0.0000, 0.0000, 0.0000, 0.0000,\n",
       "         0.0000],\n",
       "        [0.0000, 0.0000, 0.0000, 0.0000, 0.0000, 0.0000, 0.0000, 0.0000, 0.0000,\n",
       "         0.0000, 0.0000, 0.0000, 0.0000, 0.0000, 0.0000, 0.0000, 0.0000, 0.0000,\n",
       "         0.0000, 0.0000, 0.0000, 0.0000, 0.0000, 0.0000, 0.0000, 0.0000, 0.0000,\n",
       "         0.0000],\n",
       "        [0.0000, 0.0000, 0.0000, 0.0000, 0.0000, 0.0000, 0.0000, 0.0000, 0.0000,\n",
       "         0.0000, 0.0000, 0.0000, 0.0000, 0.0000, 0.0000, 0.0000, 0.0000, 0.0000,\n",
       "         0.0000, 0.0000, 0.0000, 0.0000, 0.0000, 0.0000, 0.0000, 0.0000, 0.0000,\n",
       "         0.0000],\n",
       "        [0.0000, 0.0000, 0.0000, 0.0000, 0.0000, 0.0000, 0.0000, 0.0000, 0.0000,\n",
       "         0.0000, 0.0000, 0.0000, 0.0000, 0.0000, 0.0000, 0.0000, 0.0000, 0.0000,\n",
       "         0.0000, 0.0000, 0.0000, 0.0000, 0.0000, 0.0000, 0.0000, 0.0000, 0.0000,\n",
       "         0.0000],\n",
       "        [0.0000, 0.0000, 0.0000, 0.0000, 0.0000, 0.0000, 0.0000, 0.0000, 0.0000,\n",
       "         0.0000, 0.0000, 0.0000, 0.0000, 0.0588, 0.5059, 0.8392, 0.9373, 0.6039,\n",
       "         0.2706, 0.0078, 0.0000, 0.0000, 0.0000, 0.0000, 0.0000, 0.0000, 0.0000,\n",
       "         0.0000],\n",
       "        [0.0000, 0.0000, 0.0000, 0.0000, 0.0000, 0.0000, 0.0000, 0.0000, 0.0000,\n",
       "         0.0000, 0.0000, 0.0000, 0.0941, 0.8314, 0.9686, 0.9961, 0.9961, 0.9961,\n",
       "         0.9961, 0.5490, 0.0039, 0.0000, 0.0000, 0.0000, 0.0000, 0.0000, 0.0000,\n",
       "         0.0000],\n",
       "        [0.0000, 0.0000, 0.0000, 0.0000, 0.0000, 0.0000, 0.0000, 0.0000, 0.0000,\n",
       "         0.0000, 0.0000, 0.0000, 0.0471, 0.3490, 0.6941, 0.9294, 0.4078, 0.7020,\n",
       "         0.9961, 0.9961, 0.4392, 0.0000, 0.0000, 0.0000, 0.0000, 0.0000, 0.0000,\n",
       "         0.0000],\n",
       "        [0.0000, 0.0000, 0.0000, 0.0000, 0.0000, 0.0000, 0.0000, 0.0000, 0.0000,\n",
       "         0.0000, 0.0000, 0.0706, 0.5804, 0.9961, 0.9882, 0.6549, 0.0000, 0.0627,\n",
       "         0.5490, 0.9961, 0.7529, 0.0078, 0.0000, 0.0000, 0.0000, 0.0000, 0.0000,\n",
       "         0.0000],\n",
       "        [0.0000, 0.0000, 0.0000, 0.0000, 0.0000, 0.0000, 0.0000, 0.0000, 0.0000,\n",
       "         0.0000, 0.2392, 0.8549, 0.9882, 0.7608, 0.2784, 0.0000, 0.0000, 0.0000,\n",
       "         0.0627, 0.9255, 0.9961, 0.0627, 0.0000, 0.0000, 0.0000, 0.0000, 0.0000,\n",
       "         0.0000],\n",
       "        [0.0000, 0.0000, 0.0000, 0.0000, 0.0000, 0.0000, 0.0000, 0.0000, 0.0000,\n",
       "         0.0980, 0.9373, 0.9176, 0.2824, 0.0000, 0.0000, 0.0000, 0.0000, 0.0000,\n",
       "         0.0235, 0.8039, 0.8863, 0.0392, 0.0000, 0.0000, 0.0000, 0.0000, 0.0000,\n",
       "         0.0000],\n",
       "        [0.0000, 0.0000, 0.0000, 0.0000, 0.0000, 0.0000, 0.0000, 0.0000, 0.0078,\n",
       "         0.6941, 0.9216, 0.1294, 0.0000, 0.0000, 0.0000, 0.0000, 0.0000, 0.0000,\n",
       "         0.2706, 0.9961, 0.6980, 0.0000, 0.0000, 0.0000, 0.0000, 0.0000, 0.0000,\n",
       "         0.0000],\n",
       "        [0.0000, 0.0000, 0.0000, 0.0000, 0.0000, 0.0000, 0.0000, 0.0000, 0.0392,\n",
       "         0.8784, 0.9451, 0.1490, 0.0000, 0.0000, 0.0000, 0.0000, 0.0275, 0.3843,\n",
       "         0.9059, 0.9647, 0.2471, 0.0000, 0.0000, 0.0000, 0.0000, 0.0000, 0.0000,\n",
       "         0.0000],\n",
       "        [0.0000, 0.0000, 0.0000, 0.0000, 0.0000, 0.0000, 0.0000, 0.0000, 0.0000,\n",
       "         0.3216, 0.9961, 0.8745, 0.2000, 0.0000, 0.0000, 0.0275, 0.4275, 0.9961,\n",
       "         0.9647, 0.4275, 0.0000, 0.0000, 0.0000, 0.0000, 0.0000, 0.0000, 0.0000,\n",
       "         0.0000],\n",
       "        [0.0000, 0.0000, 0.0000, 0.0000, 0.0000, 0.0000, 0.0000, 0.0000, 0.0000,\n",
       "         0.0157, 0.3529, 0.9059, 0.9765, 0.5059, 0.1137, 0.6902, 0.9961, 0.8941,\n",
       "         0.2824, 0.0000, 0.0000, 0.0000, 0.0000, 0.0000, 0.0000, 0.0000, 0.0000,\n",
       "         0.0000],\n",
       "        [0.0000, 0.0000, 0.0000, 0.0000, 0.0000, 0.0000, 0.0000, 0.0000, 0.0000,\n",
       "         0.0000, 0.0000, 0.1098, 0.8314, 0.9961, 0.8902, 0.9961, 0.8980, 0.1725,\n",
       "         0.0000, 0.0000, 0.0000, 0.0000, 0.0000, 0.0000, 0.0000, 0.0000, 0.0000,\n",
       "         0.0000],\n",
       "        [0.0000, 0.0000, 0.0000, 0.0000, 0.0000, 0.0000, 0.0000, 0.0000, 0.0000,\n",
       "         0.0000, 0.0000, 0.0235, 0.4588, 0.9961, 0.9961, 0.9961, 0.2431, 0.0000,\n",
       "         0.0000, 0.0000, 0.0000, 0.0000, 0.0000, 0.0000, 0.0000, 0.0000, 0.0000,\n",
       "         0.0000],\n",
       "        [0.0000, 0.0000, 0.0000, 0.0000, 0.0000, 0.0000, 0.0000, 0.0000, 0.0000,\n",
       "         0.0000, 0.0235, 0.4157, 0.9961, 0.9647, 0.7098, 0.9961, 0.6078, 0.0000,\n",
       "         0.0000, 0.0000, 0.0000, 0.0000, 0.0000, 0.0000, 0.0000, 0.0000, 0.0000,\n",
       "         0.0000],\n",
       "        [0.0000, 0.0000, 0.0000, 0.0000, 0.0000, 0.0000, 0.0000, 0.0000, 0.0000,\n",
       "         0.0000, 0.3608, 0.9961, 0.8471, 0.1608, 0.0196, 0.6706, 0.9765, 0.1922,\n",
       "         0.0000, 0.0000, 0.0000, 0.0000, 0.0000, 0.0000, 0.0000, 0.0000, 0.0000,\n",
       "         0.0000],\n",
       "        [0.0000, 0.0000, 0.0000, 0.0000, 0.0000, 0.0000, 0.0000, 0.0000, 0.0000,\n",
       "         0.0745, 0.9765, 0.8118, 0.0549, 0.0000, 0.0000, 0.2157, 0.9961, 0.4588,\n",
       "         0.0000, 0.0000, 0.0000, 0.0000, 0.0000, 0.0000, 0.0000, 0.0000, 0.0000,\n",
       "         0.0000],\n",
       "        [0.0000, 0.0000, 0.0000, 0.0000, 0.0000, 0.0000, 0.0000, 0.0000, 0.0000,\n",
       "         0.5765, 0.9961, 0.2549, 0.0000, 0.0000, 0.0000, 0.0745, 0.9137, 0.7569,\n",
       "         0.0000, 0.0000, 0.0000, 0.0000, 0.0000, 0.0000, 0.0000, 0.0000, 0.0000,\n",
       "         0.0000],\n",
       "        [0.0000, 0.0000, 0.0000, 0.0000, 0.0000, 0.0000, 0.0000, 0.0000, 0.0627,\n",
       "         0.9804, 0.9961, 0.6235, 0.0000, 0.0000, 0.0000, 0.0000, 0.6549, 0.7843,\n",
       "         0.0000, 0.0000, 0.0000, 0.0000, 0.0000, 0.0000, 0.0000, 0.0000, 0.0000,\n",
       "         0.0000],\n",
       "        [0.0000, 0.0000, 0.0000, 0.0000, 0.0000, 0.0000, 0.0000, 0.0000, 0.0471,\n",
       "         0.8235, 0.9961, 0.9922, 0.8000, 0.3608, 0.2000, 0.3569, 0.9294, 0.6863,\n",
       "         0.0000, 0.0000, 0.0000, 0.0000, 0.0000, 0.0000, 0.0000, 0.0000, 0.0000,\n",
       "         0.0000],\n",
       "        [0.0000, 0.0000, 0.0000, 0.0000, 0.0000, 0.0000, 0.0000, 0.0000, 0.0000,\n",
       "         0.0431, 0.6353, 0.9961, 0.9961, 0.9961, 0.9882, 0.9961, 0.9373, 0.2078,\n",
       "         0.0000, 0.0000, 0.0000, 0.0000, 0.0000, 0.0000, 0.0000, 0.0000, 0.0000,\n",
       "         0.0000],\n",
       "        [0.0000, 0.0000, 0.0000, 0.0000, 0.0000, 0.0000, 0.0000, 0.0000, 0.0000,\n",
       "         0.0000, 0.0039, 0.0549, 0.3882, 0.8275, 0.9451, 0.6078, 0.0588, 0.0000,\n",
       "         0.0000, 0.0000, 0.0000, 0.0000, 0.0000, 0.0000, 0.0000, 0.0000, 0.0000,\n",
       "         0.0000],\n",
       "        [0.0000, 0.0000, 0.0000, 0.0000, 0.0000, 0.0000, 0.0000, 0.0000, 0.0000,\n",
       "         0.0000, 0.0000, 0.0000, 0.0000, 0.0000, 0.0000, 0.0000, 0.0000, 0.0000,\n",
       "         0.0000, 0.0000, 0.0000, 0.0000, 0.0000, 0.0000, 0.0000, 0.0000, 0.0000,\n",
       "         0.0000],\n",
       "        [0.0000, 0.0000, 0.0000, 0.0000, 0.0000, 0.0000, 0.0000, 0.0000, 0.0000,\n",
       "         0.0000, 0.0000, 0.0000, 0.0000, 0.0000, 0.0000, 0.0000, 0.0000, 0.0000,\n",
       "         0.0000, 0.0000, 0.0000, 0.0000, 0.0000, 0.0000, 0.0000, 0.0000, 0.0000,\n",
       "         0.0000],\n",
       "        [0.0000, 0.0000, 0.0000, 0.0000, 0.0000, 0.0000, 0.0000, 0.0000, 0.0000,\n",
       "         0.0000, 0.0000, 0.0000, 0.0000, 0.0000, 0.0000, 0.0000, 0.0000, 0.0000,\n",
       "         0.0000, 0.0000, 0.0000, 0.0000, 0.0000, 0.0000, 0.0000, 0.0000, 0.0000,\n",
       "         0.0000]])"
      ]
     },
     "execution_count": 47,
     "metadata": {},
     "output_type": "execute_result"
    }
   ],
   "source": [
    "#how to test for a single image?\n",
    "test_data[6904][0].reshape(28,28)"
   ]
  },
  {
   "cell_type": "code",
   "execution_count": 48,
   "id": "b1c78054",
   "metadata": {},
   "outputs": [],
   "source": [
    "model.eval()\n",
    "with torch.no_grad():\n",
    "    new_pred=model(test_data[6904][0].view(1,1,28,28))"
   ]
  },
  {
   "cell_type": "code",
   "execution_count": 50,
   "id": "b26a16d0",
   "metadata": {},
   "outputs": [
    {
     "data": {
      "text/plain": [
       "tensor(8)"
      ]
     },
     "execution_count": 50,
     "metadata": {},
     "output_type": "execute_result"
    }
   ],
   "source": [
    "new_pred.argmax()"
   ]
  },
  {
   "cell_type": "code",
   "execution_count": null,
   "id": "4470f3f2",
   "metadata": {},
   "outputs": [],
   "source": []
  }
 ],
 "metadata": {
  "kernelspec": {
   "display_name": "Python 3 (ipykernel)",
   "language": "python",
   "name": "python3"
  },
  "language_info": {
   "codemirror_mode": {
    "name": "ipython",
    "version": 3
   },
   "file_extension": ".py",
   "mimetype": "text/x-python",
   "name": "python",
   "nbconvert_exporter": "python",
   "pygments_lexer": "ipython3",
   "version": "3.11.5"
  }
 },
 "nbformat": 4,
 "nbformat_minor": 5
}
